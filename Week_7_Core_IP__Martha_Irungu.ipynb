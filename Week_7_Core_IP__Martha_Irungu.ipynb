{
  "nbformat": 4,
  "nbformat_minor": 0,
  "metadata": {
    "colab": {
      "name": "Week 7_Core_IP__Martha Irungu.ipynb",
      "provenance": [],
      "collapsed_sections": [],
      "toc_visible": true,
      "authorship_tag": "ABX9TyOwN+OmG7uUu57Jd2jJDzOt",
      "include_colab_link": true
    },
    "kernelspec": {
      "name": "python3",
      "display_name": "Python 3"
    }
  },
  "cells": [
    {
      "cell_type": "markdown",
      "metadata": {
        "id": "view-in-github",
        "colab_type": "text"
      },
      "source": [
        "<a href=\"https://colab.research.google.com/github/martha-irungu/WK_7_Core_IP/blob/master/Week_7_Core_IP__Martha_Irungu.ipynb\" target=\"_parent\"><img src=\"https://colab.research.google.com/assets/colab-badge.svg\" alt=\"Open In Colab\"/></a>"
      ]
    },
    {
      "cell_type": "markdown",
      "metadata": {
        "id": "pENxVHtfyD2e",
        "colab_type": "text"
      },
      "source": [
        "###  **1. Defining the question**"
      ]
    },
    {
      "cell_type": "markdown",
      "metadata": {
        "id": "l-2iiiK-yFaC",
        "colab_type": "text"
      },
      "source": [
        "**a) Specifying the question**"
      ]
    },
    {
      "cell_type": "markdown",
      "metadata": {
        "id": "M5XQ1S3YyQzs",
        "colab_type": "text"
      },
      "source": [
        "i)Study the factors that affect housing prices using the given information on real estate properties that was collected over the past few months.\n",
        "\n",
        "ii) Create a model that would allow the company to accurately predict the sale of prices upon being provided with the predictor variables. \n"
      ]
    },
    {
      "cell_type": "markdown",
      "metadata": {
        "id": "-icv5CqSyTCS",
        "colab_type": "text"
      },
      "source": [
        "**b)Defining the Metrics for success**"
      ]
    },
    {
      "cell_type": "markdown",
      "metadata": {
        "id": "N1OOomtsyX7s",
        "colab_type": "text"
      },
      "source": [
        "To meet the objective of the study we will create the following regression models and assess suitability of each of the tested models on their appropriateness to solve the given problem. We will subject the evaluation to the assumptions of each model and compare performance based metrics such as RMSE, MSE, accuracy scores\n",
        "\n",
        "i)Multiple Linear Regression\n",
        "\n",
        "ii)Quantile Regression\n",
        "\n",
        "iii)Ridge Regression\n",
        "\n",
        "iv)Lasso Regression\n",
        "\n",
        "v)Elastic Net Regression\n"
      ]
    },
    {
      "cell_type": "markdown",
      "metadata": {
        "id": "enIktBagyjBe",
        "colab_type": "text"
      },
      "source": [
        "**c) Understanding the context**"
      ]
    },
    {
      "cell_type": "markdown",
      "metadata": {
        "id": "_xj4HeubynAV",
        "colab_type": "text"
      },
      "source": [
        "Assessing house price developments has become an integral component of macro-financial surveillance both locally and globally. \n",
        "The housing sector is not only an important component of the transmission channels between the credit and the business cycle and may act as a propagation mechanism for shocks but it can also play a key role in the origin of financial crises. Housing markets can be subject to bubbles, with house prices developments becoming disconnected from the fundamental drivers of housing demand and supply. \n",
        "\n",
        "House prices are influenced by a number of factors. As a Data Scientist, working for Hass Consulting Company which is a real estate leader with over 25 years of experience. I tasked to study the factors that affect housing prices using the given information on real estate properties that was collected over the past few months. Later onwards, create a model that would allow the company to accurately predict the sale of prices upon being provided with the predictor variables. "
      ]
    },
    {
      "cell_type": "markdown",
      "metadata": {
        "id": "Jy7Nv8CuyrQz",
        "colab_type": "text"
      },
      "source": [
        "**d) Recording the experimental design**"
      ]
    },
    {
      "cell_type": "markdown",
      "metadata": {
        "id": "CUfYflikysTl",
        "colab_type": "text"
      },
      "source": [
        "The following steps were implemented\n",
        "\n",
        "1.) Business Understanding, this keeps you grounded to the main question and gives light throughout all your analysis.\n",
        "\n",
        "2.) Reading the data.\n",
        "\n",
        "3.) Data Exploration and cleaning to prepare the data for modelling\n",
        "\n",
        "4.) EDA, here is where I did my analysis and visualization of the data.\n",
        "\n",
        "5.) Checking for multicollinearity.\n",
        "\n",
        "6.) Model Development."
      ]
    },
    {
      "cell_type": "markdown",
      "metadata": {
        "id": "7kbEASZ_yxw7",
        "colab_type": "text"
      },
      "source": [
        "**e)Data Relevance**"
      ]
    },
    {
      "cell_type": "markdown",
      "metadata": {
        "id": "EJZ-KW7jy2dM",
        "colab_type": "text"
      },
      "source": [
        "The data provided for this study consists of columns with factors likely to influence prices of houses. The factors such as size of the house, number of bedrooms, grade among others can influence price of the house. There is no detailed desription on all the columns, this is a limitation as it may result to wrong assumptions, but is worth noting that the data is relevant for the study."
      ]
    },
    {
      "cell_type": "markdown",
      "metadata": {
        "id": "1MxhqDNHzJ70",
        "colab_type": "text"
      },
      "source": [
        "## **2. Importing the libraries**"
      ]
    },
    {
      "cell_type": "code",
      "metadata": {
        "id": "cAEe3EcCzU6L",
        "colab_type": "code",
        "colab": {}
      },
      "source": [
        "import numpy as np\n",
        "import pandas as pd\n",
        "import seaborn as sns\n",
        "import matplotlib.pyplot as plt\n",
        "from sklearn.model_selection import GridSearchCV\n",
        "from sklearn.linear_model import Ridge\n",
        "from sklearn.linear_model import LinearRegression\n",
        "from sklearn.metrics import mean_squared_error\n",
        "from sklearn.model_selection import train_test_split\n",
        "from sklearn import metrics \n",
        "import matplotlib\n",
        "from matplotlib import pyplot\n",
        "from sklearn import linear_model\n"
      ],
      "execution_count": 151,
      "outputs": []
    },
    {
      "cell_type": "markdown",
      "metadata": {
        "id": "hbHJsqAoB2X6",
        "colab_type": "text"
      },
      "source": [
        "##**3. Reading and checking the data**"
      ]
    },
    {
      "cell_type": "code",
      "metadata": {
        "id": "vhZWBO5hcwBe",
        "colab_type": "code",
        "colab": {
          "base_uri": "https://localhost:8080/",
          "height": 224
        },
        "outputId": "5219db4a-62e5-411b-bcd8-3071ecea8840"
      },
      "source": [
        "#Previewing the first 5 columns of the dataset\n",
        "df=pd.read_csv('house_data.csv')\n",
        "df.head()"
      ],
      "execution_count": 140,
      "outputs": [
        {
          "output_type": "execute_result",
          "data": {
            "text/html": [
              "<div>\n",
              "<style scoped>\n",
              "    .dataframe tbody tr th:only-of-type {\n",
              "        vertical-align: middle;\n",
              "    }\n",
              "\n",
              "    .dataframe tbody tr th {\n",
              "        vertical-align: top;\n",
              "    }\n",
              "\n",
              "    .dataframe thead th {\n",
              "        text-align: right;\n",
              "    }\n",
              "</style>\n",
              "<table border=\"1\" class=\"dataframe\">\n",
              "  <thead>\n",
              "    <tr style=\"text-align: right;\">\n",
              "      <th></th>\n",
              "      <th>id</th>\n",
              "      <th>price</th>\n",
              "      <th>bedrooms</th>\n",
              "      <th>bathrooms</th>\n",
              "      <th>sqft_living</th>\n",
              "      <th>sqft_lot</th>\n",
              "      <th>floors</th>\n",
              "      <th>waterfront</th>\n",
              "      <th>view</th>\n",
              "      <th>condition</th>\n",
              "      <th>grade</th>\n",
              "      <th>sqft_above</th>\n",
              "      <th>sqft_basement</th>\n",
              "      <th>yr_built</th>\n",
              "      <th>yr_renovated</th>\n",
              "      <th>zipcode</th>\n",
              "      <th>lat</th>\n",
              "      <th>long</th>\n",
              "      <th>sqft_living15</th>\n",
              "      <th>sqft_lot15</th>\n",
              "    </tr>\n",
              "  </thead>\n",
              "  <tbody>\n",
              "    <tr>\n",
              "      <th>0</th>\n",
              "      <td>7129300520</td>\n",
              "      <td>221900.0</td>\n",
              "      <td>3</td>\n",
              "      <td>1.00</td>\n",
              "      <td>1180</td>\n",
              "      <td>5650</td>\n",
              "      <td>1.0</td>\n",
              "      <td>0</td>\n",
              "      <td>0</td>\n",
              "      <td>3</td>\n",
              "      <td>7</td>\n",
              "      <td>1180</td>\n",
              "      <td>0</td>\n",
              "      <td>1955</td>\n",
              "      <td>0</td>\n",
              "      <td>98178</td>\n",
              "      <td>47.5112</td>\n",
              "      <td>-122.257</td>\n",
              "      <td>1340</td>\n",
              "      <td>5650</td>\n",
              "    </tr>\n",
              "    <tr>\n",
              "      <th>1</th>\n",
              "      <td>6414100192</td>\n",
              "      <td>538000.0</td>\n",
              "      <td>3</td>\n",
              "      <td>2.25</td>\n",
              "      <td>2570</td>\n",
              "      <td>7242</td>\n",
              "      <td>2.0</td>\n",
              "      <td>0</td>\n",
              "      <td>0</td>\n",
              "      <td>3</td>\n",
              "      <td>7</td>\n",
              "      <td>2170</td>\n",
              "      <td>400</td>\n",
              "      <td>1951</td>\n",
              "      <td>1991</td>\n",
              "      <td>98125</td>\n",
              "      <td>47.7210</td>\n",
              "      <td>-122.319</td>\n",
              "      <td>1690</td>\n",
              "      <td>7639</td>\n",
              "    </tr>\n",
              "    <tr>\n",
              "      <th>2</th>\n",
              "      <td>5631500400</td>\n",
              "      <td>180000.0</td>\n",
              "      <td>2</td>\n",
              "      <td>1.00</td>\n",
              "      <td>770</td>\n",
              "      <td>10000</td>\n",
              "      <td>1.0</td>\n",
              "      <td>0</td>\n",
              "      <td>0</td>\n",
              "      <td>3</td>\n",
              "      <td>6</td>\n",
              "      <td>770</td>\n",
              "      <td>0</td>\n",
              "      <td>1933</td>\n",
              "      <td>0</td>\n",
              "      <td>98028</td>\n",
              "      <td>47.7379</td>\n",
              "      <td>-122.233</td>\n",
              "      <td>2720</td>\n",
              "      <td>8062</td>\n",
              "    </tr>\n",
              "    <tr>\n",
              "      <th>3</th>\n",
              "      <td>2487200875</td>\n",
              "      <td>604000.0</td>\n",
              "      <td>4</td>\n",
              "      <td>3.00</td>\n",
              "      <td>1960</td>\n",
              "      <td>5000</td>\n",
              "      <td>1.0</td>\n",
              "      <td>0</td>\n",
              "      <td>0</td>\n",
              "      <td>5</td>\n",
              "      <td>7</td>\n",
              "      <td>1050</td>\n",
              "      <td>910</td>\n",
              "      <td>1965</td>\n",
              "      <td>0</td>\n",
              "      <td>98136</td>\n",
              "      <td>47.5208</td>\n",
              "      <td>-122.393</td>\n",
              "      <td>1360</td>\n",
              "      <td>5000</td>\n",
              "    </tr>\n",
              "    <tr>\n",
              "      <th>4</th>\n",
              "      <td>1954400510</td>\n",
              "      <td>510000.0</td>\n",
              "      <td>3</td>\n",
              "      <td>2.00</td>\n",
              "      <td>1680</td>\n",
              "      <td>8080</td>\n",
              "      <td>1.0</td>\n",
              "      <td>0</td>\n",
              "      <td>0</td>\n",
              "      <td>3</td>\n",
              "      <td>8</td>\n",
              "      <td>1680</td>\n",
              "      <td>0</td>\n",
              "      <td>1987</td>\n",
              "      <td>0</td>\n",
              "      <td>98074</td>\n",
              "      <td>47.6168</td>\n",
              "      <td>-122.045</td>\n",
              "      <td>1800</td>\n",
              "      <td>7503</td>\n",
              "    </tr>\n",
              "  </tbody>\n",
              "</table>\n",
              "</div>"
            ],
            "text/plain": [
              "           id     price  bedrooms  ...     long  sqft_living15  sqft_lot15\n",
              "0  7129300520  221900.0         3  ... -122.257           1340        5650\n",
              "1  6414100192  538000.0         3  ... -122.319           1690        7639\n",
              "2  5631500400  180000.0         2  ... -122.233           2720        8062\n",
              "3  2487200875  604000.0         4  ... -122.393           1360        5000\n",
              "4  1954400510  510000.0         3  ... -122.045           1800        7503\n",
              "\n",
              "[5 rows x 20 columns]"
            ]
          },
          "metadata": {
            "tags": []
          },
          "execution_count": 140
        }
      ]
    },
    {
      "cell_type": "code",
      "metadata": {
        "id": "p1_iQtmmcwF7",
        "colab_type": "code",
        "colab": {
          "base_uri": "https://localhost:8080/",
          "height": 34
        },
        "outputId": "e6e0a82c-220f-4fd5-99c4-03d870235656"
      },
      "source": [
        "#Checking the shape of the dataset\n",
        "df.shape "
      ],
      "execution_count": 5,
      "outputs": [
        {
          "output_type": "execute_result",
          "data": {
            "text/plain": [
              "(21613, 20)"
            ]
          },
          "metadata": {
            "tags": []
          },
          "execution_count": 5
        }
      ]
    },
    {
      "cell_type": "markdown",
      "metadata": {
        "id": "qUsjgkhi2NW5",
        "colab_type": "text"
      },
      "source": [
        "Our dataset has 21,613 records and 20 columns"
      ]
    },
    {
      "cell_type": "code",
      "metadata": {
        "id": "fLYVy2Y-cwKt",
        "colab_type": "code",
        "colab": {
          "base_uri": "https://localhost:8080/",
          "height": 374
        },
        "outputId": "ee88875b-983d-41af-8dd4-dda0561f4fa5"
      },
      "source": [
        "#Checking the datatypes of our dataset\n",
        "df.dtypes"
      ],
      "execution_count": 22,
      "outputs": [
        {
          "output_type": "execute_result",
          "data": {
            "text/plain": [
              "id                 int64\n",
              "price            float64\n",
              "bedrooms           int64\n",
              "bathrooms        float64\n",
              "sqft_living        int64\n",
              "sqft_lot           int64\n",
              "floors           float64\n",
              "waterfront         int64\n",
              "view               int64\n",
              "condition          int64\n",
              "grade              int64\n",
              "sqft_above         int64\n",
              "sqft_basement      int64\n",
              "yr_built           int64\n",
              "yr_renovated       int64\n",
              "zipcode            int64\n",
              "lat              float64\n",
              "long             float64\n",
              "sqft_living15      int64\n",
              "sqft_lot15         int64\n",
              "dtype: object"
            ]
          },
          "metadata": {
            "tags": []
          },
          "execution_count": 22
        }
      ]
    },
    {
      "cell_type": "markdown",
      "metadata": {
        "id": "P6km-1162f7M",
        "colab_type": "text"
      },
      "source": [
        "Our dataset has integers and float data types. We note that some columns like postal code, bathrooms,year built, year renovated are not in the right format. We will change them to right format to ease the analysis"
      ]
    },
    {
      "cell_type": "code",
      "metadata": {
        "id": "-Y6Ylv6HrZxg",
        "colab_type": "code",
        "colab": {
          "base_uri": "https://localhost:8080/",
          "height": 476
        },
        "outputId": "8757a0d6-4cfa-4e0d-dca7-6113961b60d0"
      },
      "source": [
        "#Checking the summary information of the data frame\n",
        "df.info()"
      ],
      "execution_count": 23,
      "outputs": [
        {
          "output_type": "stream",
          "text": [
            "<class 'pandas.core.frame.DataFrame'>\n",
            "RangeIndex: 21613 entries, 0 to 21612\n",
            "Data columns (total 20 columns):\n",
            " #   Column         Non-Null Count  Dtype  \n",
            "---  ------         --------------  -----  \n",
            " 0   id             21613 non-null  int64  \n",
            " 1   price          21613 non-null  float64\n",
            " 2   bedrooms       21613 non-null  int64  \n",
            " 3   bathrooms      21613 non-null  float64\n",
            " 4   sqft_living    21613 non-null  int64  \n",
            " 5   sqft_lot       21613 non-null  int64  \n",
            " 6   floors         21613 non-null  float64\n",
            " 7   waterfront     21613 non-null  int64  \n",
            " 8   view           21613 non-null  int64  \n",
            " 9   condition      21613 non-null  int64  \n",
            " 10  grade          21613 non-null  int64  \n",
            " 11  sqft_above     21613 non-null  int64  \n",
            " 12  sqft_basement  21613 non-null  int64  \n",
            " 13  yr_built       21613 non-null  int64  \n",
            " 14  yr_renovated   21613 non-null  int64  \n",
            " 15  zipcode        21613 non-null  int64  \n",
            " 16  lat            21613 non-null  float64\n",
            " 17  long           21613 non-null  float64\n",
            " 18  sqft_living15  21613 non-null  int64  \n",
            " 19  sqft_lot15     21613 non-null  int64  \n",
            "dtypes: float64(5), int64(15)\n",
            "memory usage: 3.3 MB\n"
          ],
          "name": "stdout"
        }
      ]
    },
    {
      "cell_type": "markdown",
      "metadata": {
        "id": "UM9iIqSp3i00",
        "colab_type": "text"
      },
      "source": [
        "our dataset has 21,613 records, has no null values, 5 clolumns in float and 15 in integer data types"
      ]
    },
    {
      "cell_type": "code",
      "metadata": {
        "id": "x8pr2y_nrZ0O",
        "colab_type": "code",
        "colab": {
          "base_uri": "https://localhost:8080/",
          "height": 317
        },
        "outputId": "7b2af9db-79a9-4c11-e1c0-77599a5827ba"
      },
      "source": [
        "#Checking statistical summary of the dataset\n",
        "df.describe()"
      ],
      "execution_count": null,
      "outputs": [
        {
          "output_type": "execute_result",
          "data": {
            "text/html": [
              "<div>\n",
              "<style scoped>\n",
              "    .dataframe tbody tr th:only-of-type {\n",
              "        vertical-align: middle;\n",
              "    }\n",
              "\n",
              "    .dataframe tbody tr th {\n",
              "        vertical-align: top;\n",
              "    }\n",
              "\n",
              "    .dataframe thead th {\n",
              "        text-align: right;\n",
              "    }\n",
              "</style>\n",
              "<table border=\"1\" class=\"dataframe\">\n",
              "  <thead>\n",
              "    <tr style=\"text-align: right;\">\n",
              "      <th></th>\n",
              "      <th>id</th>\n",
              "      <th>price</th>\n",
              "      <th>bedrooms</th>\n",
              "      <th>bathrooms</th>\n",
              "      <th>sqft_living</th>\n",
              "      <th>sqft_lot</th>\n",
              "      <th>floors</th>\n",
              "      <th>waterfront</th>\n",
              "      <th>view</th>\n",
              "      <th>condition</th>\n",
              "      <th>grade</th>\n",
              "      <th>sqft_above</th>\n",
              "      <th>sqft_basement</th>\n",
              "      <th>yr_built</th>\n",
              "      <th>yr_renovated</th>\n",
              "      <th>zipcode</th>\n",
              "      <th>lat</th>\n",
              "      <th>long</th>\n",
              "      <th>sqft_living15</th>\n",
              "      <th>sqft_lot15</th>\n",
              "    </tr>\n",
              "  </thead>\n",
              "  <tbody>\n",
              "    <tr>\n",
              "      <th>count</th>\n",
              "      <td>2.161300e+04</td>\n",
              "      <td>2.161300e+04</td>\n",
              "      <td>21613.000000</td>\n",
              "      <td>21613.000000</td>\n",
              "      <td>21613.000000</td>\n",
              "      <td>2.161300e+04</td>\n",
              "      <td>21613.000000</td>\n",
              "      <td>21613.000000</td>\n",
              "      <td>21613.000000</td>\n",
              "      <td>21613.000000</td>\n",
              "      <td>21613.000000</td>\n",
              "      <td>21613.000000</td>\n",
              "      <td>21613.000000</td>\n",
              "      <td>21613.000000</td>\n",
              "      <td>21613.000000</td>\n",
              "      <td>21613.000000</td>\n",
              "      <td>21613.000000</td>\n",
              "      <td>21613.000000</td>\n",
              "      <td>21613.000000</td>\n",
              "      <td>21613.000000</td>\n",
              "    </tr>\n",
              "    <tr>\n",
              "      <th>mean</th>\n",
              "      <td>4.580302e+09</td>\n",
              "      <td>5.401822e+05</td>\n",
              "      <td>3.370842</td>\n",
              "      <td>2.114757</td>\n",
              "      <td>2079.899736</td>\n",
              "      <td>1.510697e+04</td>\n",
              "      <td>1.494309</td>\n",
              "      <td>0.007542</td>\n",
              "      <td>0.234303</td>\n",
              "      <td>3.409430</td>\n",
              "      <td>7.656873</td>\n",
              "      <td>1788.390691</td>\n",
              "      <td>291.509045</td>\n",
              "      <td>1971.005136</td>\n",
              "      <td>84.402258</td>\n",
              "      <td>98077.939805</td>\n",
              "      <td>47.560053</td>\n",
              "      <td>-122.213896</td>\n",
              "      <td>1986.552492</td>\n",
              "      <td>12768.455652</td>\n",
              "    </tr>\n",
              "    <tr>\n",
              "      <th>std</th>\n",
              "      <td>2.876566e+09</td>\n",
              "      <td>3.673622e+05</td>\n",
              "      <td>0.930062</td>\n",
              "      <td>0.770163</td>\n",
              "      <td>918.440897</td>\n",
              "      <td>4.142051e+04</td>\n",
              "      <td>0.539989</td>\n",
              "      <td>0.086517</td>\n",
              "      <td>0.766318</td>\n",
              "      <td>0.650743</td>\n",
              "      <td>1.175459</td>\n",
              "      <td>828.090978</td>\n",
              "      <td>442.575043</td>\n",
              "      <td>29.373411</td>\n",
              "      <td>401.679240</td>\n",
              "      <td>53.505026</td>\n",
              "      <td>0.138564</td>\n",
              "      <td>0.140828</td>\n",
              "      <td>685.391304</td>\n",
              "      <td>27304.179631</td>\n",
              "    </tr>\n",
              "    <tr>\n",
              "      <th>min</th>\n",
              "      <td>1.000102e+06</td>\n",
              "      <td>7.500000e+04</td>\n",
              "      <td>0.000000</td>\n",
              "      <td>0.000000</td>\n",
              "      <td>290.000000</td>\n",
              "      <td>5.200000e+02</td>\n",
              "      <td>1.000000</td>\n",
              "      <td>0.000000</td>\n",
              "      <td>0.000000</td>\n",
              "      <td>1.000000</td>\n",
              "      <td>1.000000</td>\n",
              "      <td>290.000000</td>\n",
              "      <td>0.000000</td>\n",
              "      <td>1900.000000</td>\n",
              "      <td>0.000000</td>\n",
              "      <td>98001.000000</td>\n",
              "      <td>47.155900</td>\n",
              "      <td>-122.519000</td>\n",
              "      <td>399.000000</td>\n",
              "      <td>651.000000</td>\n",
              "    </tr>\n",
              "    <tr>\n",
              "      <th>25%</th>\n",
              "      <td>2.123049e+09</td>\n",
              "      <td>3.219500e+05</td>\n",
              "      <td>3.000000</td>\n",
              "      <td>1.750000</td>\n",
              "      <td>1427.000000</td>\n",
              "      <td>5.040000e+03</td>\n",
              "      <td>1.000000</td>\n",
              "      <td>0.000000</td>\n",
              "      <td>0.000000</td>\n",
              "      <td>3.000000</td>\n",
              "      <td>7.000000</td>\n",
              "      <td>1190.000000</td>\n",
              "      <td>0.000000</td>\n",
              "      <td>1951.000000</td>\n",
              "      <td>0.000000</td>\n",
              "      <td>98033.000000</td>\n",
              "      <td>47.471000</td>\n",
              "      <td>-122.328000</td>\n",
              "      <td>1490.000000</td>\n",
              "      <td>5100.000000</td>\n",
              "    </tr>\n",
              "    <tr>\n",
              "      <th>50%</th>\n",
              "      <td>3.904930e+09</td>\n",
              "      <td>4.500000e+05</td>\n",
              "      <td>3.000000</td>\n",
              "      <td>2.250000</td>\n",
              "      <td>1910.000000</td>\n",
              "      <td>7.618000e+03</td>\n",
              "      <td>1.500000</td>\n",
              "      <td>0.000000</td>\n",
              "      <td>0.000000</td>\n",
              "      <td>3.000000</td>\n",
              "      <td>7.000000</td>\n",
              "      <td>1560.000000</td>\n",
              "      <td>0.000000</td>\n",
              "      <td>1975.000000</td>\n",
              "      <td>0.000000</td>\n",
              "      <td>98065.000000</td>\n",
              "      <td>47.571800</td>\n",
              "      <td>-122.230000</td>\n",
              "      <td>1840.000000</td>\n",
              "      <td>7620.000000</td>\n",
              "    </tr>\n",
              "    <tr>\n",
              "      <th>75%</th>\n",
              "      <td>7.308900e+09</td>\n",
              "      <td>6.450000e+05</td>\n",
              "      <td>4.000000</td>\n",
              "      <td>2.500000</td>\n",
              "      <td>2550.000000</td>\n",
              "      <td>1.068800e+04</td>\n",
              "      <td>2.000000</td>\n",
              "      <td>0.000000</td>\n",
              "      <td>0.000000</td>\n",
              "      <td>4.000000</td>\n",
              "      <td>8.000000</td>\n",
              "      <td>2210.000000</td>\n",
              "      <td>560.000000</td>\n",
              "      <td>1997.000000</td>\n",
              "      <td>0.000000</td>\n",
              "      <td>98118.000000</td>\n",
              "      <td>47.678000</td>\n",
              "      <td>-122.125000</td>\n",
              "      <td>2360.000000</td>\n",
              "      <td>10083.000000</td>\n",
              "    </tr>\n",
              "    <tr>\n",
              "      <th>max</th>\n",
              "      <td>9.900000e+09</td>\n",
              "      <td>7.700000e+06</td>\n",
              "      <td>33.000000</td>\n",
              "      <td>8.000000</td>\n",
              "      <td>13540.000000</td>\n",
              "      <td>1.651359e+06</td>\n",
              "      <td>3.500000</td>\n",
              "      <td>1.000000</td>\n",
              "      <td>4.000000</td>\n",
              "      <td>5.000000</td>\n",
              "      <td>13.000000</td>\n",
              "      <td>9410.000000</td>\n",
              "      <td>4820.000000</td>\n",
              "      <td>2015.000000</td>\n",
              "      <td>2015.000000</td>\n",
              "      <td>98199.000000</td>\n",
              "      <td>47.777600</td>\n",
              "      <td>-121.315000</td>\n",
              "      <td>6210.000000</td>\n",
              "      <td>871200.000000</td>\n",
              "    </tr>\n",
              "  </tbody>\n",
              "</table>\n",
              "</div>"
            ],
            "text/plain": [
              "                 id         price  ...  sqft_living15     sqft_lot15\n",
              "count  2.161300e+04  2.161300e+04  ...   21613.000000   21613.000000\n",
              "mean   4.580302e+09  5.401822e+05  ...    1986.552492   12768.455652\n",
              "std    2.876566e+09  3.673622e+05  ...     685.391304   27304.179631\n",
              "min    1.000102e+06  7.500000e+04  ...     399.000000     651.000000\n",
              "25%    2.123049e+09  3.219500e+05  ...    1490.000000    5100.000000\n",
              "50%    3.904930e+09  4.500000e+05  ...    1840.000000    7620.000000\n",
              "75%    7.308900e+09  6.450000e+05  ...    2360.000000   10083.000000\n",
              "max    9.900000e+09  7.700000e+06  ...    6210.000000  871200.000000\n",
              "\n",
              "[8 rows x 20 columns]"
            ]
          },
          "metadata": {
            "tags": []
          },
          "execution_count": 8
        }
      ]
    },
    {
      "cell_type": "markdown",
      "metadata": {
        "id": "8R--do5l4WwC",
        "colab_type": "text"
      },
      "source": [
        "We observe that the mean of house price is 540,182, the minimum price being 7.5e+4 (75,000) and maximum 7.7e+6 (770,0000)"
      ]
    },
    {
      "cell_type": "code",
      "metadata": {
        "id": "2sBsELt6rZ3c",
        "colab_type": "code",
        "colab": {
          "base_uri": "https://localhost:8080/",
          "height": 374
        },
        "outputId": "51d03822-93e1-4212-96b7-809230d39413"
      },
      "source": [
        "#Checking the null values in our dataset\n",
        "df.isnull().sum()"
      ],
      "execution_count": 24,
      "outputs": [
        {
          "output_type": "execute_result",
          "data": {
            "text/plain": [
              "id               0\n",
              "price            0\n",
              "bedrooms         0\n",
              "bathrooms        0\n",
              "sqft_living      0\n",
              "sqft_lot         0\n",
              "floors           0\n",
              "waterfront       0\n",
              "view             0\n",
              "condition        0\n",
              "grade            0\n",
              "sqft_above       0\n",
              "sqft_basement    0\n",
              "yr_built         0\n",
              "yr_renovated     0\n",
              "zipcode          0\n",
              "lat              0\n",
              "long             0\n",
              "sqft_living15    0\n",
              "sqft_lot15       0\n",
              "dtype: int64"
            ]
          },
          "metadata": {
            "tags": []
          },
          "execution_count": 24
        }
      ]
    },
    {
      "cell_type": "markdown",
      "metadata": {
        "id": "b5VWkSit0cO2",
        "colab_type": "text"
      },
      "source": [
        "We observe that our records have no null values"
      ]
    },
    {
      "cell_type": "code",
      "metadata": {
        "id": "v2BxkCtetMEv",
        "colab_type": "code",
        "colab": {
          "base_uri": "https://localhost:8080/",
          "height": 374
        },
        "outputId": "b05b984a-6031-479c-a00c-cb5fb182103c"
      },
      "source": [
        "#changing data types to right format\n",
        "#Changing date from object to date time\n",
        "df.yr_built=pd.to_datetime(df.yr_built)\n",
        "df.yr_renovated=pd.to_datetime(df.yr_renovated)\n",
        "\n",
        "#Changing zipcode from integer to object data type\n",
        "\n",
        "df['zipcode'] = df['zipcode'].apply(np.str)\n",
        "df.dtypes"
      ],
      "execution_count": 128,
      "outputs": [
        {
          "output_type": "execute_result",
          "data": {
            "text/plain": [
              "id                        int64\n",
              "price                   float64\n",
              "bedrooms                  int64\n",
              "bathrooms               float64\n",
              "sqft_living               int64\n",
              "sqft_lot                  int64\n",
              "floors                  float64\n",
              "waterfront                int64\n",
              "view                      int64\n",
              "condition                 int64\n",
              "grade                     int64\n",
              "sqft_above                int64\n",
              "sqft_basement             int64\n",
              "yr_built         datetime64[ns]\n",
              "yr_renovated     datetime64[ns]\n",
              "zipcode                  object\n",
              "lat                     float64\n",
              "long                    float64\n",
              "sqft_living15             int64\n",
              "sqft_lot15                int64\n",
              "dtype: object"
            ]
          },
          "metadata": {
            "tags": []
          },
          "execution_count": 128
        }
      ]
    },
    {
      "cell_type": "code",
      "metadata": {
        "id": "c-24hkGiuWGD",
        "colab_type": "code",
        "colab": {
          "base_uri": "https://localhost:8080/",
          "height": 213
        },
        "outputId": "a1dcd10b-6781-4ca5-b163-aefaa3736d00"
      },
      "source": [
        "#Remove column ID and zip code as we will not need them\n",
        "\n",
        "df.drop([\"id\",\"zipcode\"], axis=1, inplace = True) \n",
        "df.head(3)"
      ],
      "execution_count": 129,
      "outputs": [
        {
          "output_type": "execute_result",
          "data": {
            "text/html": [
              "<div>\n",
              "<style scoped>\n",
              "    .dataframe tbody tr th:only-of-type {\n",
              "        vertical-align: middle;\n",
              "    }\n",
              "\n",
              "    .dataframe tbody tr th {\n",
              "        vertical-align: top;\n",
              "    }\n",
              "\n",
              "    .dataframe thead th {\n",
              "        text-align: right;\n",
              "    }\n",
              "</style>\n",
              "<table border=\"1\" class=\"dataframe\">\n",
              "  <thead>\n",
              "    <tr style=\"text-align: right;\">\n",
              "      <th></th>\n",
              "      <th>price</th>\n",
              "      <th>bedrooms</th>\n",
              "      <th>bathrooms</th>\n",
              "      <th>sqft_living</th>\n",
              "      <th>sqft_lot</th>\n",
              "      <th>floors</th>\n",
              "      <th>waterfront</th>\n",
              "      <th>view</th>\n",
              "      <th>condition</th>\n",
              "      <th>grade</th>\n",
              "      <th>sqft_above</th>\n",
              "      <th>sqft_basement</th>\n",
              "      <th>yr_built</th>\n",
              "      <th>yr_renovated</th>\n",
              "      <th>lat</th>\n",
              "      <th>long</th>\n",
              "      <th>sqft_living15</th>\n",
              "      <th>sqft_lot15</th>\n",
              "    </tr>\n",
              "  </thead>\n",
              "  <tbody>\n",
              "    <tr>\n",
              "      <th>0</th>\n",
              "      <td>221900.0</td>\n",
              "      <td>3</td>\n",
              "      <td>1.00</td>\n",
              "      <td>1180</td>\n",
              "      <td>5650</td>\n",
              "      <td>1.0</td>\n",
              "      <td>0</td>\n",
              "      <td>0</td>\n",
              "      <td>3</td>\n",
              "      <td>7</td>\n",
              "      <td>1180</td>\n",
              "      <td>0</td>\n",
              "      <td>1970-01-01 00:00:00.000001955</td>\n",
              "      <td>1970-01-01 00:00:00.000000000</td>\n",
              "      <td>47.5112</td>\n",
              "      <td>-122.257</td>\n",
              "      <td>1340</td>\n",
              "      <td>5650</td>\n",
              "    </tr>\n",
              "    <tr>\n",
              "      <th>1</th>\n",
              "      <td>538000.0</td>\n",
              "      <td>3</td>\n",
              "      <td>2.25</td>\n",
              "      <td>2570</td>\n",
              "      <td>7242</td>\n",
              "      <td>2.0</td>\n",
              "      <td>0</td>\n",
              "      <td>0</td>\n",
              "      <td>3</td>\n",
              "      <td>7</td>\n",
              "      <td>2170</td>\n",
              "      <td>400</td>\n",
              "      <td>1970-01-01 00:00:00.000001951</td>\n",
              "      <td>1970-01-01 00:00:00.000001991</td>\n",
              "      <td>47.7210</td>\n",
              "      <td>-122.319</td>\n",
              "      <td>1690</td>\n",
              "      <td>7639</td>\n",
              "    </tr>\n",
              "    <tr>\n",
              "      <th>2</th>\n",
              "      <td>180000.0</td>\n",
              "      <td>2</td>\n",
              "      <td>1.00</td>\n",
              "      <td>770</td>\n",
              "      <td>10000</td>\n",
              "      <td>1.0</td>\n",
              "      <td>0</td>\n",
              "      <td>0</td>\n",
              "      <td>3</td>\n",
              "      <td>6</td>\n",
              "      <td>770</td>\n",
              "      <td>0</td>\n",
              "      <td>1970-01-01 00:00:00.000001933</td>\n",
              "      <td>1970-01-01 00:00:00.000000000</td>\n",
              "      <td>47.7379</td>\n",
              "      <td>-122.233</td>\n",
              "      <td>2720</td>\n",
              "      <td>8062</td>\n",
              "    </tr>\n",
              "  </tbody>\n",
              "</table>\n",
              "</div>"
            ],
            "text/plain": [
              "      price  bedrooms  bathrooms  ...     long  sqft_living15  sqft_lot15\n",
              "0  221900.0         3       1.00  ... -122.257           1340        5650\n",
              "1  538000.0         3       2.25  ... -122.319           1690        7639\n",
              "2  180000.0         2       1.00  ... -122.233           2720        8062\n",
              "\n",
              "[3 rows x 18 columns]"
            ]
          },
          "metadata": {
            "tags": []
          },
          "execution_count": 129
        }
      ]
    },
    {
      "cell_type": "markdown",
      "metadata": {
        "id": "2-KhLPRw_84c",
        "colab_type": "text"
      },
      "source": [
        "Id and zipcode columns successfully dropped"
      ]
    },
    {
      "cell_type": "code",
      "metadata": {
        "id": "MMTgaGSpuThI",
        "colab_type": "code",
        "colab": {
          "base_uri": "https://localhost:8080/",
          "height": 34
        },
        "outputId": "a6db2e6d-2b8b-48d7-8218-c0c8dbad5ae7"
      },
      "source": [
        "#Checking for duplicates\n",
        "df.duplicated().sum() \n"
      ],
      "execution_count": 67,
      "outputs": [
        {
          "output_type": "execute_result",
          "data": {
            "text/plain": [
              "5"
            ]
          },
          "metadata": {
            "tags": []
          },
          "execution_count": 67
        }
      ]
    },
    {
      "cell_type": "code",
      "metadata": {
        "id": "mgJPYeq4u2MY",
        "colab_type": "code",
        "colab": {
          "base_uri": "https://localhost:8080/",
          "height": 34
        },
        "outputId": "9f6dc546-b9e4-4892-8fe5-29973a509029"
      },
      "source": [
        "#Dropping the duplicates\n",
        "df.drop_duplicates(keep=False, inplace=True)\n",
        "df.duplicated().sum()"
      ],
      "execution_count": 133,
      "outputs": [
        {
          "output_type": "execute_result",
          "data": {
            "text/plain": [
              "0"
            ]
          },
          "metadata": {
            "tags": []
          },
          "execution_count": 133
        }
      ]
    },
    {
      "cell_type": "code",
      "metadata": {
        "id": "xdvC60ujwLIw",
        "colab_type": "code",
        "colab": {
          "base_uri": "https://localhost:8080/",
          "height": 1000
        },
        "outputId": "83beaa66-f4d7-4ddf-f231-5007459d2b11"
      },
      "source": [
        "#Checking the unique values in each column\n",
        "\n",
        "columns = df.columns.to_list()\n",
        "\n",
        "for column in columns:\n",
        "  print('\\n')\n",
        "  print('Column Name:', column)\n",
        "  print(df[column].unique())"
      ],
      "execution_count": 66,
      "outputs": [
        {
          "output_type": "stream",
          "text": [
            "\n",
            "\n",
            "Column Name: price\n",
            "[221900. 538000. 180000. ... 541800. 610685. 402101.]\n",
            "\n",
            "\n",
            "Column Name: bedrooms\n",
            "[ 3  2  4  5  1  6  7  0  8  9 11 10 33]\n",
            "\n",
            "\n",
            "Column Name: bathrooms\n",
            "[1.   2.25 3.   2.   4.5  1.5  2.5  1.75 2.75 3.25 4.   3.5  0.75 4.75\n",
            " 5.   4.25 3.75 0.   1.25 5.25 6.   0.5  5.5  6.75 5.75 8.   7.5  7.75\n",
            " 6.25 6.5 ]\n",
            "\n",
            "\n",
            "Column Name: sqft_living\n",
            "[1180 2570  770 ... 3087 3118 1425]\n",
            "\n",
            "\n",
            "Column Name: sqft_lot\n",
            "[ 5650  7242 10000 ...  5813  2388  1076]\n",
            "\n",
            "\n",
            "Column Name: floors\n",
            "[1.  2.  1.5 3.  2.5 3.5]\n",
            "\n",
            "\n",
            "Column Name: waterfront\n",
            "[0 1]\n",
            "\n",
            "\n",
            "Column Name: view\n",
            "[0 3 4 2 1]\n",
            "\n",
            "\n",
            "Column Name: condition\n",
            "[3 5 4 1 2]\n",
            "\n",
            "\n",
            "Column Name: grade\n",
            "[ 7  6  8 11  9  5 10 12  4  3 13  1]\n",
            "\n",
            "\n",
            "Column Name: sqft_above\n",
            "[1180 2170  770 1050 1680 3890 1715 1060 1890 1860  860 1430 1370 1810\n",
            " 1980 1600 1200 1250 2330 2270 1070 2450 1710 1750 1400  790 2570 2320\n",
            " 1190 1510 1090 1280  930 2360  890 2620 2600 3595 1570  920 3160  990\n",
            " 2290 2165 1640 1000 2130 2830 2250 2420 3250 1850 1590 1260 2519 1540\n",
            " 1110 1770 2720 2240 3070 2380 2390  880 1040  910 3450 2350 1900 1010\n",
            "  960 2660 1610  765 3520 1290 1960 1160 1210 1270 1440 2190 2920 1460\n",
            " 1170 1240 3140 2030 2310  700 1080 2520 2780 1560 1450 1720 2910 1620\n",
            " 1360 2070 2460 1390 2140 1320 1340 1550  940 1380 3670 2370 1130  980\n",
            " 3540 2500 1760 1030 1780 3400 2680 1670 2590  820 1220 2440 2090 1100\n",
            " 1330 1420 1690 2150 1910 1350 1940  900 1630 2714  850 1870 1950 2760\n",
            " 2020 1120 1480 1230 2280 3760 3530  830 1300 2740 1830  720 2010 3360\n",
            "  800 1730  760 1700 4750 5310  580 2653 2850 2210 2630 3500 1740 1140\n",
            " 2160 2650  970 2040 2180 2220 1660 3370 2690 1930 3150 3030 2050 2490\n",
            " 2560 1275 2580  560 1820 1840 2990 3230 1580 3480 2510 1410 2120 3300\n",
            " 3840 1500 1530 2840  833 2000 6070  950 2200 4040 1920 1490 3470 3130\n",
            " 2610 3260 2260  430 3390  630 4860 3860 2810  870 3180 2770 4030 4410\n",
            " 2400 1520 3040 6050 4740 1970 5403 3350 3580 1790  750 2860 2750 2340\n",
            " 2870 4120 3200 2550 1805 4150 1384 2060 2110 3590 2100 2540 1880 1150\n",
            " 1470 1255 1800 4370 3190 2730 4570 2470  670 2900 4670 4230 2156 1020\n",
            " 2940 2640 2710 3100 3610 4270  840 3090 2300  380 2480 3460 3060 3064\n",
            " 3000 1654 2790 1310 2230 2430 3680 2670 2208  810  740 1422  490 2080\n",
            " 3440 5670 4475  730 3410 3010  600 2960 3570 4300 3990  780 3020 5990\n",
            "  440 4460 4190 2800 2530 1650 3690 2932 3720 4250 3110 2963 4930 2950\n",
            " 5000 2452 2820 1981  640 2495 2403 5320 6720  660 2341 4210 3830 3280\n",
            " 2980 5153 1990 1646  610  710 5450 3504 3210 1782 2930  590 4280  680\n",
            " 3880 3430 3750 4130 5710 3380 3330 4700 3220 3362 3510 3810  620 4490\n",
            " 2410 3050 1008 3488 4070 3420 5770 1605  520 1088 3555 4360 3960 2700\n",
            " 4340 1552 3850 2303 3270 4350 3640 2174 4160 2496 5180 5130 6350 3770\n",
            " 2153 3780 2890 1714 2201 2970  992 3950 3527 2835 3915 1427 4870 3340\n",
            " 3620 4310 3930 4080 5400  570 3310 6110 3320 3490 3859 3710 1798 4600\n",
            " 3560 3940 3600 3800 1105 2305 3290 5050 1556 1553 4000 1657 3001 4220\n",
            "  480 3120 3740  530 3700 5230 5370 3080 4140 4430 3550 1159 1288 2880\n",
            " 4610 1122 3052 1479 7680 3820 1934 5080 2675 2506 5760 2154 4390 3240\n",
            " 1995 1689 2782 2395 4400 6200 3526 4320 2483 4380 4580 4180 2064 3650\n",
            " 1726 2019 4240 1256  500 1355 1747 1678 1833 1414 4115 3597 3170  390\n",
            " 1976 5830 2601 3920 2641 5070 2518 3910 3660 3695 4020 2803 2074 2038\n",
            " 4060 4890 2329 1264 1095  690 4090 1392 2844  902 4560 2811 4720 2168\n",
            " 5610 2683 4900 2095 4290 4050 4260 4440 6220 1175  998 2356 4500 3900\n",
            " 3831 1315 4470 4810 2286 2927 4760 8570 5140 1679 1811 2849 1676 1757\n",
            " 3730 2441 2163 5250 2795 2415 3970 4200 1068 5240 1509 1954 4820 1651\n",
            " 4100 1752 3630 2885 3154 1129 2632 1996 4010  550  410 6430 3790 2031\n",
            " 1652 2434 3316 1899 2331 2497 2216 4170 1341 1961 5584 8860 2507 5220\n",
            " 4850 5844 5530 2145  650 1982 4910 3605 1778 1463 2783 1946 1358 3870\n",
            " 1864 1845 6290 3980 2382 2979 3674 2726 5440 1295 2115 6085 3265 3136\n",
            " 6640 4620 3361 2245 2242 1078 2577 1329  420 4330 1975 7420 1788 2299\n",
            " 1092 4225 1087 1904  470 2966 2192 2253 5550 4133 4285 1216  540 9410\n",
            " 2075 5330 2166 1628 1808 1352 2557 6380 7880 2734 1363 1769 2093 1677\n",
            " 2588 5190 2298 1491 2961 5020 5980 4540  844 6120 2233 4480 4110 4770\n",
            " 2473  995 5160 1494 2007 1048 3002 4780 2155 2014 4980 2665 4830 4790\n",
            " 5010  370 2105 3006 3004 2689 4660 1746 2678 2755 2414  901 4630 2068\n",
            " 2807 2643 2181 4510 4420 1604 1435 3045 2717 2905 4940 5110 2533 6660\n",
            " 3485 2659 5090 2375 1964  866 1595  944 5480  809 5040 1764 1656 1802\n",
            "  460 2692 1544 2044 1212 4083 8020 3905 1502 4590  384 2092 6090 1615\n",
            " 7320 1396 1484 1765 5490 1453 1643 5300 1381 4065  290 1313 5430 1397\n",
            " 2793 2475 1936 3028  798 2575 3276 1584 2393 2029 3222 1072 1785 1984\n",
            "  962 2423 2052 2538 2437 2789 2906 4800 7850 2196 1847 2658 2655 3855\n",
            " 1728  963 2223 1611 2015 2448 1489 1116 3745 1002 3202 1347 1481 2311\n",
            " 2544 2584 2217 3569 3181 1921 2612 2671 2598 3284 3266 1076 2594 2718\n",
            " 1794 2481 3845 1413 1876 3148 2413 1767 5060  806 2547 1834 2024 1165\n",
            " 2134 1741 2798 1852 2099 3216 1094 2891 2432 2283 2701 1658  893 2009\n",
            " 1444 2744 3078 3065 1578 2815 4960 1571 6530 4640 1536 3172 6370 3223\n",
            " 1608 2229 3135 1408 1763 4840 1232 2502 2424 1296 1914  988 3828 3056\n",
            " 2267 1131 2796 1812 1084 2025 1564 1239 2568 1528 2628 2185 2478 2669\n",
            " 1912 2828 2425 1446 3206 2406 1419 2056 1144 2456 4950 3192  828 2529\n",
            " 2732 1987 3906 4073 2578 2738 3691 1061 2846 2542 1889 3336 3236 1451\n",
            " 1983 2313 1824 1322 1766 2301 3274 1108 2864 2716 1572 3281 2656 2398\n",
            " 1867 1613 2587 2623  894 1606 2244 2026 2238 2517 2708 2555 1405 4450\n",
            " 1248 6420 2531 1333 2198 3087 3118 1425]\n",
            "\n",
            "\n",
            "Column Name: sqft_basement\n",
            "[   0  400  910 1530  730 1700  300  970  760  720  700  820  780  790\n",
            "  330 1620  360  588 1510  410  990  600  560  550 1000 1600  500 1040\n",
            "  880 1010  240  265  290  800  540  380  710  840  770  480  570 1490\n",
            "  620 1250 1270  120  650  180 1130  450 1640 1460 1020 1030  750  640\n",
            " 1070  490 1310  630 2000  390  430  850  210 1430 1950  440  220 1160\n",
            "  860  580 2060 1820 1180  200 1150 1200  680  530 1450 1170 1080  960\n",
            " 1100  280  870  460 1400 1320  660 1220  900  420 1580 1380  475  690\n",
            "  270  350  935 1370  980 1470  160  950   50  740 1780 1900  340  470\n",
            "  370  140 1760  130  610  520  890 1110  150 1720  810  190 1290  670\n",
            " 1800 1120 1810   60 1050  940  310  930 1390 1830 1300  510 1330 1590\n",
            "  920 1420 1240 1960 1560 2020 1190 2110 1280  250 2390 1230  170  830\n",
            " 1260 1410 1340  590 1500 1140  260  100  320 1480 1060 1284 1670 1350\n",
            " 2570 2590 1090  110 2500   90 1940 1550 2350 2490 1481 1360 1135 1520\n",
            " 1850 1660 2130 2600 1690  243 1210 2620 1024 1798 1610 1440 1570 1650\n",
            "  704 1910 1630 2360 1852 2090 2400 1790 2150  230   70 1680 2100 3000\n",
            " 1870 1710 2030  875 1540 2850 2170  506  906  145 2040  784 1750  374\n",
            "  518 2720 2730 1840 3480 2160 1920 2330 1860 2050 4820 1913   80 2010\n",
            " 3260 2200  415 1730  652 2196 1930  515   40 2080 2580 1548 1740  235\n",
            "  861 1890 2220  792 2070 4130 2250 2240  894 1990  768 2550  435 1008\n",
            " 2300 2610  666 3500  172 1816 2190 1245 1525 1880  862  946 1281  414\n",
            " 2180  276 1248  602  516  176  225 1275  266  283   65 2310   10 1770\n",
            " 2120  295  207  915  556  417  143  508 2810   20  274  248]\n",
            "\n",
            "\n",
            "Column Name: yr_built\n",
            "[1955 1951 1933 1965 1987 2001 1995 1963 1960 2003 1942 1927 1977 1900\n",
            " 1979 1994 1916 1921 1969 1947 1968 1985 1941 1915 1909 1948 2005 1929\n",
            " 1981 1930 1904 1996 2000 1984 2014 1922 1959 1966 1953 1950 2008 1991\n",
            " 1954 1973 1925 1989 1972 1986 1956 2002 1992 1964 1952 1961 2006 1988\n",
            " 1962 1939 1946 1967 1975 1980 1910 1983 1978 1905 1971 2010 1945 1924\n",
            " 1990 1914 1926 2004 1923 2007 1976 1949 1999 1901 1993 1920 1997 1943\n",
            " 1957 1940 1918 1928 1974 1911 1936 1937 1982 1908 1931 1998 1913 2013\n",
            " 1907 1958 2012 1912 2011 1917 1932 1944 1902 2009 1903 1970 2015 1934\n",
            " 1938 1919 1906 1935]\n",
            "\n",
            "\n",
            "Column Name: yr_renovated\n",
            "[   0 1991 2002 2010 1999 1992 2013 1994 1978 2005 2008 2003 1984 1954\n",
            " 2014 2011 1974 1983 1945 1990 1988 1957 1977 1981 1995 2000 1998 1970\n",
            " 1989 2004 1986 2009 2007 1987 1973 2006 1985 2001 1980 1971 1979 1997\n",
            " 1950 1969 1948 2015 1968 2012 1963 1951 1993 1962 1996 1972 1953 1955\n",
            " 1982 1956 1940 1976 1946 1975 1958 1964 1959 1960 1967 1965 1934 1944]\n",
            "\n",
            "\n",
            "Column Name: zipcode\n",
            "[98178 98125 98028 98136 98074 98053 98003 98198 98146 98038 98007 98115\n",
            " 98107 98126 98019 98103 98002 98133 98040 98092 98030 98119 98112 98052\n",
            " 98027 98117 98058 98001 98056 98166 98023 98070 98148 98105 98042 98008\n",
            " 98059 98122 98144 98004 98005 98034 98075 98116 98010 98118 98199 98032\n",
            " 98045 98102 98077 98108 98168 98177 98065 98029 98006 98109 98022 98033\n",
            " 98155 98024 98011 98031 98106 98072 98188 98014 98055 98039]\n",
            "\n",
            "\n",
            "Column Name: lat\n",
            "[47.5112 47.721  47.7379 ... 47.3906 47.3339 47.6502]\n",
            "\n",
            "\n",
            "Column Name: long\n",
            "[-122.257 -122.319 -122.233 -122.393 -122.045 -122.005 -122.327 -122.315\n",
            " -122.337 -122.031 -122.145 -122.292 -122.229 -122.394 -122.375 -121.962\n",
            " -122.343 -122.21  -122.306 -122.341 -122.169 -122.166 -122.172 -122.218\n",
            " -122.36  -122.314 -122.304 -122.11  -122.07  -122.357 -122.368 -122.157\n",
            " -122.31  -122.132 -122.362 -122.282 -122.18  -122.027 -122.347 -122.016\n",
            " -122.364 -122.175 -121.977 -122.371 -122.151 -122.301 -122.451 -122.322\n",
            " -122.189 -122.384 -122.369 -122.281 -122.29  -122.114 -122.122 -122.116\n",
            " -122.149 -122.339 -122.335 -122.344 -122.32  -122.297 -122.192 -122.215\n",
            " -122.16  -122.179 -122.287 -122.036 -122.073 -121.987 -122.125 -122.34\n",
            " -122.025 -122.008 -122.291 -122.365 -122.199 -122.194 -122.387 -122.372\n",
            " -122.391 -122.351 -122.386 -122.249 -122.277 -122.378 -121.958 -121.714\n",
            " -122.08  -122.196 -122.184 -122.133 -122.38  -122.082 -122.109 -122.053\n",
            " -122.349 -122.295 -122.253 -122.248 -122.303 -122.294 -122.226 -122.266\n",
            " -122.098 -122.212 -122.244 -122.39  -122.352 -121.85  -122.152 -122.054\n",
            " -122.072 -121.998 -122.296 -122.299 -122.381 -122.358 -122.128 -122.171\n",
            " -122.174 -122.026 -122.353 -121.943 -122.286 -122.336 -122.359 -122.162\n",
            " -122.3   -122.176 -121.996 -122.118 -122.193 -122.023 -122.224 -122.168\n",
            " -122.231 -122.331 -122.374 -122.182 -122.308 -122.307 -121.999 -122.376\n",
            " -122.2   -122.039 -122.102 -122.188 -122.379 -122.043 -122.153 -122.191\n",
            " -122.219 -122.312 -121.911 -121.994 -122.165 -122.37  -122.158 -122.047\n",
            " -122.284 -122.017 -122.275 -122.268 -122.367 -122.217 -122.373 -122.013\n",
            " -122.214 -122.034 -122.164 -121.899 -122.183 -121.95  -122.324 -122.216\n",
            " -122.395 -122.213 -122.345 -122.278 -122.111 -121.711 -122.27  -122.178\n",
            " -122.147 -121.772 -122.302 -122.438 -122.223 -122.042 -122.323 -122.255\n",
            " -122.4   -122.261 -122.071 -122.206 -122.272 -122.23  -122.144 -122.143\n",
            " -122.181 -122.154 -122.311 -122.274 -122.077 -122.    -122.298 -122.058\n",
            " -121.837 -122.333 -122.057 -122.252 -122.093 -122.012 -122.052 -122.354\n",
            " -122.22  -122.49  -121.875 -122.24  -122.078 -122.173 -121.854 -122.222\n",
            " -122.28  -122.137 -122.159 -121.974 -122.141 -122.029 -121.709 -122.19\n",
            " -121.97  -122.329 -122.195 -122.06  -121.959 -122.095 -122.148 -122.146\n",
            " -122.35  -121.901 -122.241 -122.129 -122.289 -122.305 -122.022 -122.385\n",
            " -121.779 -122.032 -122.402 -122.482 -122.227 -121.982 -122.161 -122.046\n",
            " -122.156 -122.127 -122.33  -122.197 -122.041 -122.103 -122.318 -122.382\n",
            " -122.271 -121.955 -122.211 -122.262 -122.258 -122.121 -122.221 -122.234\n",
            " -122.089 -122.123 -122.167 -121.909 -122.107 -122.064 -122.066 -122.062\n",
            " -122.264 -122.186 -122.087 -121.88  -121.864 -122.205 -122.363 -122.139\n",
            " -122.018 -122.225 -122.285 -122.084 -122.177 -122.056 -122.316 -122.021\n",
            " -122.348 -122.009 -122.131 -122.411 -122.198 -122.256 -122.117 -122.097\n",
            " -122.075 -121.845 -122.083 -122.259 -121.87  -122.015 -122.007 -121.86\n",
            " -122.409 -121.755 -121.972 -122.251 -122.317 -121.776 -122.115 -122.283\n",
            " -122.242 -122.001 -122.024 -122.309 -122.113 -121.771 -122.239 -122.273\n",
            " -122.396 -122.094 -122.267 -122.326 -122.13  -122.269 -121.853 -122.05\n",
            " -122.346 -122.076 -121.826 -122.124 -121.758 -122.202 -121.785 -121.872\n",
            " -122.006 -122.004 -122.321 -121.882 -122.101 -122.03  -122.185 -122.1\n",
            " -121.759 -121.965 -122.201 -122.366 -122.313 -122.405 -122.02  -122.279\n",
            " -122.355 -121.934 -122.15  -122.356 -121.993 -122.044 -122.134 -121.867\n",
            " -122.01  -121.991 -122.011 -121.983 -122.228 -122.033 -122.276 -122.119\n",
            " -121.937 -122.361 -122.325 -122.203 -122.136 -122.237 -122.209 -122.049\n",
            " -122.288 -122.106 -122.037 -122.207 -122.263 -121.915 -122.204 -122.09\n",
            " -122.069 -121.852 -121.787 -121.976 -122.377 -122.059 -122.383 -121.989\n",
            " -122.019 -122.208 -121.878 -122.328 -122.25  -122.338 -122.388 -122.265\n",
            " -122.332 -122.399 -122.397 -122.014 -121.956 -122.092 -122.028 -122.293\n",
            " -122.12  -122.035 -122.14  -122.04  -122.112 -121.906 -122.17  -122.238\n",
            " -122.512 -121.997 -121.89  -122.463 -121.908 -122.086 -122.389 -121.913\n",
            " -122.163 -121.918 -122.108 -122.502 -122.392 -122.236 -121.859 -121.981\n",
            " -122.342 -121.96  -121.978 -122.47  -121.91  -121.966 -122.065 -122.246\n",
            " -122.41  -121.879 -122.079 -122.099 -122.187 -121.98  -122.002 -122.138\n",
            " -121.898 -122.235 -122.126 -121.782 -121.995 -122.401 -121.858 -121.888\n",
            " -121.752 -122.063 -122.26  -121.78  -121.708 -121.721 -122.403 -121.945\n",
            " -122.243 -122.45  -121.927 -122.085 -122.088 -121.973 -122.055 -122.398\n",
            " -121.984 -121.912 -121.903 -121.946 -122.232 -122.412 -122.104 -122.048\n",
            " -122.479 -122.155 -121.833 -121.778 -122.003 -121.99  -121.926 -122.051\n",
            " -121.986 -122.245 -121.861 -122.431 -121.964 -122.142 -122.074 -122.247\n",
            " -122.497 -121.769 -121.827 -121.979 -121.871 -122.091 -121.754 -121.746\n",
            " -121.92  -121.992 -122.406 -121.359 -121.789 -121.707 -122.068 -122.404\n",
            " -122.334 -121.799 -121.774 -121.985 -121.865 -121.724 -122.415 -121.756\n",
            " -121.809 -122.135 -121.691 -122.038 -121.877 -121.94  -121.968 -121.988\n",
            " -121.315 -121.902 -122.514 -122.414 -121.883 -121.866 -121.744 -122.096\n",
            " -122.061 -121.881 -121.745 -122.461 -122.067 -121.868 -121.646 -121.93\n",
            " -122.105 -121.763 -121.718 -121.967 -121.777 -121.957 -121.823 -121.887\n",
            " -122.408 -122.462 -122.43  -122.456 -121.897 -121.932 -121.969 -121.916\n",
            " -122.081 -121.975 -121.735 -121.801 -121.761 -121.723 -121.924 -122.475\n",
            " -121.935 -122.407 -122.448 -122.453 -121.894 -121.936 -121.764 -122.416\n",
            " -121.905 -122.464 -121.768 -122.484 -121.738 -121.9   -121.82  -122.455\n",
            " -121.889 -122.496 -121.829 -122.505 -121.951 -121.847 -122.509 -121.961\n",
            " -121.417 -121.904 -122.503 -121.949 -121.874 -122.432 -121.971 -121.77\n",
            " -122.473 -121.896 -121.952 -122.254 -121.743 -121.933 -121.892 -121.749\n",
            " -121.473 -121.857 -122.465 -121.838 -121.954 -122.422 -121.931 -121.963\n",
            " -122.441 -121.925 -121.352 -122.511 -122.413 -121.876 -121.748 -121.818\n",
            " -121.8   -121.929 -121.698 -121.886 -121.802 -121.81  -121.762 -121.781\n",
            " -121.775 -122.44  -121.773 -121.819 -121.726 -122.459 -122.446 -121.855\n",
            " -121.736 -122.499 -122.46  -121.786 -122.421 -121.947 -122.439 -121.834\n",
            " -121.804 -122.443 -121.716 -121.848 -122.458 -122.515 -121.922 -121.953\n",
            " -121.783 -122.472 -121.944 -121.869 -121.828 -122.452 -121.831 -121.737\n",
            " -121.739 -121.863 -121.73  -121.856 -121.747 -121.893 -121.733 -121.846\n",
            " -121.821 -121.319 -121.765 -121.75  -122.506 -121.948 -121.921 -122.507\n",
            " -122.457 -121.914 -122.469 -121.792 -121.907 -121.841 -121.757 -121.788\n",
            " -121.731 -122.449 -121.316 -121.321 -122.504 -121.884 -121.803 -121.842\n",
            " -121.719 -121.766 -122.433 -122.519 -121.851 -121.402 -122.454 -122.467\n",
            " -121.325 -121.815 -121.676 -121.941 -122.445 -121.76  -121.885 -121.742\n",
            " -121.822 -121.895 -121.784 -121.701 -121.713 -121.727 -121.849 -121.835\n",
            " -122.435 -122.474 -122.444 -121.939 -121.48  -121.364 -121.767 -122.42\n",
            " -121.84  -122.425 -122.447 -121.797 -122.491 -121.917 -121.891 -121.942\n",
            " -121.862 -121.725 -121.873 -121.405 -122.486 -121.795 -121.734 -121.403]\n",
            "\n",
            "\n",
            "Column Name: sqft_living15\n",
            "[1340 1690 2720 1360 1800 4760 2238 1650 1780 2390 2210 1330 1370 2140\n",
            " 1890 1610 1060 1280 1400 4110 2240 1220 2200 1030 1760 1860 1520 2630\n",
            " 2580 1390 1460 1570 2020 1590 2160 1730 1290 2620 2470 2410 3625 1580\n",
            " 3050 1228 2680  970 1190 1990 1410 1480 2730 1950 2250 2690 2960 2270\n",
            " 2570 2500 1440 2750 2221 1010 3390 3530 1640 1510 2420 1940 3240 1680\n",
            "  890 1130 3350 2350 1870 1720 1850 1900 1980 2520 1350 1750 1160 2550\n",
            " 2370 1240 1270 2990 1380 1540 2090 2640 1830 1620 1880 2340 1710 2700\n",
            " 3060 2660 1700 1970 1420 2060 2480 1550 1170 2820 1560 2230 2840 1450\n",
            " 1500 3160 1200 3400 2110 2920 1770 1070 1930 3740 2260 1670 2290 1050\n",
            " 2540 2190 2030 1230 2330 1300 1430 2770 1250 1630 2590 2130 1100 3836\n",
            " 1320 2120 3070 1910 2080 1960 2280 1150 3430 2070 2600  830 1260 3120\n",
            " 2010 1660 1600 2380 3890 4180 2653 2670 3920 2300 2310 2320 3150 1740\n",
            " 2400 4550 2510 2440 2880 3860 2150 1310 1820 3080  880 2560 3470 1020\n",
            " 2040 2610 1810 2860 3480 3130 3360 4050 2450 1790 3180 3600 2000 2430\n",
            " 2850 4680 2360 3930 1490 2460 2077 1920 3630 3220 2100 3230 4300 3850\n",
            " 2424 2530 3030 2830 2900 2950 1470  940 2740 4210 3340 3980 2180 3715\n",
            " 2050 1080 2095 1000 3330 2170 1408 1530 2760 3110  950 3000 1307 2220\n",
            " 4190 3440 3250 1110 2870 1210 2910 1120 4230 1708 3090 3270 2970 1180\n",
            " 3100 4100 2930 3510 2688 1840 2490 4090 2810 3260 3680 3420 1654 1365\n",
            "  980 1677 1140 3640 3460 3140 1502 3720 2790 2940  990 2890  860 4750\n",
            " 1525 3950 5790  760 2234  960 3210 2780 2800 2305 2665 3620 2710 4320\n",
            " 2650 3370 1509 1277 1981 2434 4640 2242 3040 3970 3200 4600  840 3290\n",
            " 2214 1162 3010 5600 3820 3540 1975 4800  740 3990 3170 1576 1768 3310\n",
            " 2980 1429 3900 3380  820 1090 4060 3910 3190 3450 3730  620 3020 3760\n",
            " 3320 1132 3300 3770 3960  870 3560 4620 3520 1572 3490 1088 3159 4470\n",
            " 3570 4890 3690 3280 2083 3780  920 1941 1566  850 2496 1040 3410 4240\n",
            " 4670 4350 1714 5380 4330 3830 5000 2144 1494 1357  930 3580 4250 4080\n",
            " 3660 1458 3736 1894 2037 1295 4170 3750 3550 4630 1439 3500 2091  900\n",
            " 3880 3710 1616  720  800 2315 1564 2767 3721 4650 4020  780 1728 2027\n",
            " 1264 1404 1459 2028 3639 1943 3425 2641 2114 1309 2412 2517 1802 2011\n",
            " 1466 1414 3193 1845 1156 3670 1696 5340 4440 1745 1884 4690 4920 2406\n",
            " 4160 3810 4480 2848 1746 2634 2049 5330 1536 2273 3056 4010 4700  910\n",
            " 2125 1665 2683 3790  700 1855  750 1078 4150 4340 2344 1098 1175 1188\n",
            " 3700 3840 4042 2518 3800 2488 3590 2052  810 1528 5030 4740 5070 2967\n",
            " 4280 2724 3610 3940 4940 4770 1811 4830 2876 1805 1216 5170 1304 2474\n",
            " 4590 4130 1492 1364 2168 4140 3543 1303 2005 3650 2583 4310 2451 1448\n",
            " 2955 2142  790 1638 2554 2441 2216 4220 1961 4540  770 4200 3413 1664\n",
            " 2136 3568 4510 1484 1358 2106 1834 2014 4390 4570 2175 6110 4260  710\n",
            " 2112 1934 1518 1302 2622 2619 2382 4290 4560 4000 1336 3112 4070 1468\n",
            " 1571 2605 1138 5110 4850 2165 4410 1678 5610 1984 4660 3870 4370  460\n",
            " 4610 1914 3515 2246 1786 2109 2326 2728 4400 4950 1767 2054 5500 2555\n",
            " 3674 2765 1862 1352 4030  399 2415 2901 1815 2236 2253 2004 1356 2403\n",
            " 1137 1256 4930 4040 2376 4520 4490 2189 2566 2396 1282 2155 1056 2389\n",
            " 2256 3618 1326 1168 4913  806 1369 2405 2875 1425 5220 1442 2333 3335\n",
            " 1321 3045 1546 4730 2697 2822 2076 1757 4780  952 4270 2075 2667 1092\n",
            " 1217 1716 1792 2961 1125 1463 1886  670 4460 2336 3557 5200 2258 1377\n",
            " 2019 2092 4900 2615 1639 1765 1554 1381 4120 5080 1445 2793 2475  998\n",
            " 2384 2575 1398 1584 2439 2197 2029 4362 1443 4420 1691 2495 2437 2547\n",
            " 6210 2009 1847 1346 2578 2879 2255 2815 1608  690 2425 1481 2458 2358\n",
            " 2056 1921 2419 2996 2502 1798 3087 1076 2981 2363 3191 1763 1876 1949\n",
            " 2598 1979 1415 2002 2574 2166 3726 2099 2154 1522 1544 2912 2648 1658\n",
            " 2755 2798 1405 2704 2738 3008 2586 2873 1232 2597 2516 1537 1128 2849\n",
            " 1399 1131 1569 2381 1084 2304 4530 2297 2279 2303 2669 4225 2513 2725\n",
            " 1955 2527 4443 2478 1919 1813 2533  828 2015 3078 4495 2673 2316 2647\n",
            " 3402 3494 2156 3236 2612 2323 2409 2354 1285 2616 1427 1516 2456 2844\n",
            " 1495 2594 2604 1268 2198 3038 2927]\n",
            "\n",
            "\n",
            "Column Name: sqft_lot15\n",
            "[5650 7639 8062 ... 5731 1509 2007]\n"
          ],
          "name": "stdout"
        }
      ]
    },
    {
      "cell_type": "markdown",
      "metadata": {
        "id": "WMLh3d-U2EBc",
        "colab_type": "text"
      },
      "source": [
        "We observe that the data has the following columns that we need to investigate:\n",
        "\n",
        "condition column with values: [3 5 4 1 2]-This may mean 1 the house is in great condition and 5 is poor condition.\n",
        "\n",
        "Column Name: grade\n",
        "[ 7  6  8 11  9  5 10 12  4  3 13  1]-1 may imply grade 1 is great and grade 12 is poor\n",
        "\n",
        "Column Name: waterfront\n",
        "[0 1]- 0 may be houses without a water front and 1 house with a water front\n",
        "Column Name: bedrooms\n",
        "[ 3  2  4  5  1  6  7  0  8  9 11 10 33]-The dataset has houses with 1-11 bedrooms.We note house with 33 bedrooms which could be an outlier"
      ]
    },
    {
      "cell_type": "code",
      "metadata": {
        "id": "Fnu1sl35uTml",
        "colab_type": "code",
        "colab": {
          "base_uri": "https://localhost:8080/",
          "height": 884
        },
        "outputId": "140e7d0a-de95-4ca5-8eaa-6779a2730d8d"
      },
      "source": [
        "# checking for outliers\n",
        "\n",
        "column_names = ['bedrooms','bathrooms', 'sqft_living','sqft_lot','floors','sqft_above','sqft_basement','sqft_living15','sqft_lot15']\n",
        "\n",
        "fig, ax = plt.subplots(len(column_names), figsize=(10,15))\n",
        "\n",
        "for i, col_val in enumerate(column_names):\n",
        "\n",
        "    sns.boxplot(y=df[col_val], ax=ax[i])\n",
        "    ax[i].set_title('Box plot for numerical variables - {}'.format(col_val), fontsize=12)\n",
        "    \n",
        "    ax[i].set_xlabel(col_val, fontsize=10)\n",
        "\n",
        "plt.show()\n"
      ],
      "execution_count": 42,
      "outputs": [
        {
          "output_type": "display_data",
          "data": {
            "image/png": "[encoded data removed]",
            "text/plain": [
              "<Figure size 720x1080 with 9 Axes>"
            ]
          },
          "metadata": {
            "tags": [],
            "needs_background": "light"
          }
        }
      ]
    },
    {
      "cell_type": "markdown",
      "metadata": {
        "id": "5XTzSQdd7Thk",
        "colab_type": "text"
      },
      "source": [
        "It is evident that most of our columns have outliers. We choose not to remove them as they can add value to our prediction of prices of the house. Eg. if a house has many bedrooms,bathrooms, square feet its likely to cost more than a house with few of those factors"
      ]
    },
    {
      "cell_type": "markdown",
      "metadata": {
        "id": "4t8-o9OaBFE3",
        "colab_type": "text"
      },
      "source": [
        "**4.)EDA**\n",
        "\n",
        "i)Univariate and bivariate analysis "
      ]
    },
    {
      "cell_type": "code",
      "metadata": {
        "id": "PdGAE_AMBJ7k",
        "colab_type": "code",
        "colab": {
          "base_uri": "https://localhost:8080/",
          "height": 984
        },
        "outputId": "0c3ffbfa-23fd-4e36-dee9-48b27796dced"
      },
      "source": [
        "\n",
        "#Visualizing distribution of the data using histogram\n",
        "\n",
        "df.hist(bins=10, figsize=(15,15))\n",
        "plt.suptitle(\"Histogram of numeric variables house dataset\")\n",
        "plt.savefig('predicting price of house Histogram')\n",
        "plt.show()"
      ],
      "execution_count": 134,
      "outputs": [
        {
          "output_type": "display_data",
          "data": {
            "image/png": "[encoded data removed]",
            "text/plain": [
              "<Figure size 1080x1080 with 16 Axes>"
            ]
          },
          "metadata": {
            "tags": [],
            "needs_background": "light"
          }
        }
      ]
    },
    {
      "cell_type": "markdown",
      "metadata": {
        "id": "NnOzmiBqxB6i",
        "colab_type": "text"
      },
      "source": [
        "We observe that some of our columns are positively skewed and other are negatively skewed, but they generally follow a normal distribution"
      ]
    },
    {
      "cell_type": "code",
      "metadata": {
        "id": "R6jr75MPBJ__",
        "colab_type": "code",
        "colab": {
          "base_uri": "https://localhost:8080/",
          "height": 285
        },
        "outputId": "9b5d6d52-00d6-4e33-ec7b-16aa69d2e624"
      },
      "source": [
        "# Plotting number of bedrooms by percentage\n",
        "(df['bedrooms'].value_counts()/len(df)).plot.bar()"
      ],
      "execution_count": 44,
      "outputs": [
        {
          "output_type": "execute_result",
          "data": {
            "text/plain": [
              "<matplotlib.axes._subplots.AxesSubplot at 0x7ff418cb84e0>"
            ]
          },
          "metadata": {
            "tags": []
          },
          "execution_count": 44
        },
        {
          "output_type": "display_data",
          "data": {
            "image/png": "[encoded data removed]",
            "text/plain": [
              "<Figure size 432x288 with 1 Axes>"
            ]
          },
          "metadata": {
            "tags": [],
            "needs_background": "light"
          }
        }
      ]
    },
    {
      "cell_type": "markdown",
      "metadata": {
        "id": "q-k0fJa28Rws",
        "colab_type": "text"
      },
      "source": [
        "We observe that we have more than 40% with 3 bedrooms and slighly above 30% with 4 bedrooms"
      ]
    },
    {
      "cell_type": "code",
      "metadata": {
        "id": "OWTFXXcuBJ3-",
        "colab_type": "code",
        "colab": {
          "base_uri": "https://localhost:8080/",
          "height": 346
        },
        "outputId": "3692a054-ffb6-4046-9141-4bf1cb8632de"
      },
      "source": [
        "#Visualizing null values \n",
        "sns.heatmap(df.isnull(), yticklabels=False, cbar=False, cmap='viridis')"
      ],
      "execution_count": null,
      "outputs": [
        {
          "output_type": "execute_result",
          "data": {
            "text/plain": [
              "<matplotlib.axes._subplots.AxesSubplot at 0x7f7c1042a780>"
            ]
          },
          "metadata": {
            "tags": []
          },
          "execution_count": 52
        },
        {
          "output_type": "display_data",
          "data": {
            "image/png": "[encoded data removed]",
            "text/plain": [
              "<Figure size 432x288 with 1 Axes>"
            ]
          },
          "metadata": {
            "tags": [],
            "needs_background": "light"
          }
        }
      ]
    },
    {
      "cell_type": "markdown",
      "metadata": {
        "id": "Az8Ky_Vs84YM",
        "colab_type": "text"
      },
      "source": [
        "There are no null values"
      ]
    },
    {
      "cell_type": "code",
      "metadata": {
        "id": "o50LFzSS04Gd",
        "colab_type": "code",
        "colab": {
          "base_uri": "https://localhost:8080/",
          "height": 296
        },
        "outputId": "f2e9d00c-060d-4942-8d5b-4a61fd5d054b"
      },
      "source": [
        "#Plotting count plots \n",
        "sns.set_style('whitegrid')\n",
        "sns.countplot (x='bedrooms', data=df)"
      ],
      "execution_count": null,
      "outputs": [
        {
          "output_type": "execute_result",
          "data": {
            "text/plain": [
              "<matplotlib.axes._subplots.AxesSubplot at 0x7f7c0c5935f8>"
            ]
          },
          "metadata": {
            "tags": []
          },
          "execution_count": 54
        },
        {
          "output_type": "display_data",
          "data": {
            "image/png": "[encoded data removed]",
            "text/plain": [
              "<Figure size 432x288 with 1 Axes>"
            ]
          },
          "metadata": {
            "tags": []
          }
        }
      ]
    },
    {
      "cell_type": "markdown",
      "metadata": {
        "id": "cKziBcEk9bUY",
        "colab_type": "text"
      },
      "source": [
        "We observe that we have close to 10,000 with 3 bedrooms and over 6,000 with 4 bedrooms"
      ]
    },
    {
      "cell_type": "code",
      "metadata": {
        "id": "GYIcShe93DRK",
        "colab_type": "code",
        "colab": {
          "base_uri": "https://localhost:8080/",
          "height": 296
        },
        "outputId": "e920db23-d709-4164-fcac-c6e4e3f4e126"
      },
      "source": [
        "#Plotting count plots\n",
        "sns.set_style('whitegrid')\n",
        "sns.countplot (x='grade', data=df)"
      ],
      "execution_count": null,
      "outputs": [
        {
          "output_type": "execute_result",
          "data": {
            "text/plain": [
              "<matplotlib.axes._subplots.AxesSubplot at 0x7f7c0ba64e10>"
            ]
          },
          "metadata": {
            "tags": []
          },
          "execution_count": 55
        },
        {
          "output_type": "display_data",
          "data": {
            "image/png": "[encoded data removed]",
            "text/plain": [
              "<Figure size 432x288 with 1 Axes>"
            ]
          },
          "metadata": {
            "tags": []
          }
        }
      ]
    },
    {
      "cell_type": "markdown",
      "metadata": {
        "id": "KPa4sDVu9wq7",
        "colab_type": "text"
      },
      "source": [
        "We observe that we have over 8,000 houses in grade 7 and  6,000 in grade 8"
      ]
    },
    {
      "cell_type": "code",
      "metadata": {
        "id": "vaDxMnGC3ewh",
        "colab_type": "code",
        "colab": {
          "base_uri": "https://localhost:8080/",
          "height": 296
        },
        "outputId": "1d3cc285-3098-45da-eafd-3408b67b0f10"
      },
      "source": [
        "#Plotting count plot\n",
        "sns.set_style('whitegrid')\n",
        "sns.countplot (x='waterfront', data=df) "
      ],
      "execution_count": null,
      "outputs": [
        {
          "output_type": "execute_result",
          "data": {
            "text/plain": [
              "<matplotlib.axes._subplots.AxesSubplot at 0x7f7c0b8fb8d0>"
            ]
          },
          "metadata": {
            "tags": []
          },
          "execution_count": 56
        },
        {
          "output_type": "display_data",
          "data": {
            "image/png": "[encoded data removed]",
            "text/plain": [
              "<Figure size 432x288 with 1 Axes>"
            ]
          },
          "metadata": {
            "tags": []
          }
        }
      ]
    },
    {
      "cell_type": "markdown",
      "metadata": {
        "id": "g-bubOwf-FmD",
        "colab_type": "text"
      },
      "source": [
        "Most of the houses have 0 this assumes that they have no water front as we did not have sufficient description of the dataset that we had,we have very few houses with water front"
      ]
    },
    {
      "cell_type": "code",
      "metadata": {
        "id": "d-RlrFJQ4kYH",
        "colab_type": "code",
        "colab": {
          "base_uri": "https://localhost:8080/",
          "height": 296
        },
        "outputId": "41c70048-e2e2-4919-b087-1b8c674d596a"
      },
      "source": [
        "#Visualizing using distribution plots\n",
        "sns.distplot(df['bathrooms'], kde=False, color='darkred', bins=10)"
      ],
      "execution_count": null,
      "outputs": [
        {
          "output_type": "execute_result",
          "data": {
            "text/plain": [
              "<matplotlib.axes._subplots.AxesSubplot at 0x7f7c0e4f85f8>"
            ]
          },
          "metadata": {
            "tags": []
          },
          "execution_count": 60
        },
        {
          "output_type": "display_data",
          "data": {
            "image/png": "[encoded data removed]",
            "text/plain": [
              "<Figure size 432x288 with 1 Axes>"
            ]
          },
          "metadata": {
            "tags": []
          }
        }
      ]
    },
    {
      "cell_type": "markdown",
      "metadata": {
        "id": "cLFyioKhDjCv",
        "colab_type": "text"
      },
      "source": [
        "We observe that most of the bathrooms are 2 and 3"
      ]
    },
    {
      "cell_type": "code",
      "metadata": {
        "id": "qlpSjNdl5LWf",
        "colab_type": "code",
        "colab": {
          "base_uri": "https://localhost:8080/",
          "height": 297
        },
        "outputId": "6fd9acd6-8070-4716-8288-f4e739cc751f"
      },
      "source": [
        "#Visualizing using distribution plots \n",
        "\n",
        "sns.distplot(df['sqft_living'], kde=False, color='darkred', bins=10)"
      ],
      "execution_count": null,
      "outputs": [
        {
          "output_type": "execute_result",
          "data": {
            "text/plain": [
              "<matplotlib.axes._subplots.AxesSubplot at 0x7f7c0e4a1c18>"
            ]
          },
          "metadata": {
            "tags": []
          },
          "execution_count": 62
        },
        {
          "output_type": "display_data",
          "data": {
            "image/png": "[encoded data removed]",
            "text/plain": [
              "<Figure size 432x288 with 1 Axes>"
            ]
          },
          "metadata": {
            "tags": []
          }
        }
      ]
    },
    {
      "cell_type": "markdown",
      "metadata": {
        "id": "m7bKjhPWDzD5",
        "colab_type": "text"
      },
      "source": [
        "Most houses have living rooms below 3,000sqft"
      ]
    },
    {
      "cell_type": "code",
      "metadata": {
        "id": "8XlLnDEg5LSs",
        "colab_type": "code",
        "colab": {
          "base_uri": "https://localhost:8080/",
          "height": 307
        },
        "outputId": "73968f4e-ee3d-4d35-a97f-9a7e9a9bc2eb"
      },
      "source": [
        "#Visualizing using box plots  \n",
        "sns.boxplot(x='bedrooms',y ='price',data=df,palette ='winter') "
      ],
      "execution_count": null,
      "outputs": [
        {
          "output_type": "execute_result",
          "data": {
            "text/plain": [
              "<matplotlib.axes._subplots.AxesSubplot at 0x7f7c0e5eacc0>"
            ]
          },
          "metadata": {
            "tags": []
          },
          "execution_count": 64
        },
        {
          "output_type": "display_data",
          "data": {
            "image/png": "[encoded data removed]",
            "text/plain": [
              "<Figure size 432x288 with 1 Axes>"
            ]
          },
          "metadata": {
            "tags": []
          }
        }
      ]
    },
    {
      "cell_type": "markdown",
      "metadata": {
        "id": "7tE_InzQFCBI",
        "colab_type": "text"
      },
      "source": [
        "We observe that the range prices for 1-7 bedrooms have outliers, this could be influenced by other factors such as condition,grade, waterfront among others.While prices for 8 bedrroms and above do not have outliers"
      ]
    },
    {
      "cell_type": "code",
      "metadata": {
        "id": "xCP68GnR5LPI",
        "colab_type": "code",
        "colab": {
          "base_uri": "https://localhost:8080/",
          "height": 307
        },
        "outputId": "1c17b720-ea7a-4076-a0dc-278a4cdd0dd4"
      },
      "source": [
        "#Visualizing using box plots \n",
        "sns.boxplot(x='condition',y ='price',data=df,palette ='winter')"
      ],
      "execution_count": null,
      "outputs": [
        {
          "output_type": "execute_result",
          "data": {
            "text/plain": [
              "<matplotlib.axes._subplots.AxesSubplot at 0x7f7c0e233dd8>"
            ]
          },
          "metadata": {
            "tags": []
          },
          "execution_count": 65
        },
        {
          "output_type": "display_data",
          "data": {
            "image/png": "[encoded data removed]",
            "text/plain": [
              "<Figure size 432x288 with 1 Axes>"
            ]
          },
          "metadata": {
            "tags": []
          }
        }
      ]
    },
    {
      "cell_type": "markdown",
      "metadata": {
        "id": "rTeSoGt-Fwza",
        "colab_type": "text"
      },
      "source": [
        "We observe that prices for all the conditions have outliers with those in 3 and 4 being severe"
      ]
    },
    {
      "cell_type": "code",
      "metadata": {
        "id": "A58YIgHo60vB",
        "colab_type": "code",
        "colab": {
          "base_uri": "https://localhost:8080/",
          "height": 307
        },
        "outputId": "e8229219-06bf-4960-87c8-b1999e377071"
      },
      "source": [
        "#Visualizing using box plots\n",
        "sns.boxplot(x='grade',y ='price',data=df,palette ='winter')"
      ],
      "execution_count": null,
      "outputs": [
        {
          "output_type": "execute_result",
          "data": {
            "text/plain": [
              "<matplotlib.axes._subplots.AxesSubplot at 0x7f7c0dce9438>"
            ]
          },
          "metadata": {
            "tags": []
          },
          "execution_count": 66
        },
        {
          "output_type": "display_data",
          "data": {
            "image/png": "[encoded data removed]",
            "text/plain": [
              "<Figure size 432x288 with 1 Axes>"
            ]
          },
          "metadata": {
            "tags": []
          }
        }
      ]
    },
    {
      "cell_type": "markdown",
      "metadata": {
        "id": "RnpQSIGLGOwa",
        "colab_type": "text"
      },
      "source": [
        "We observe that prices increase with grade.Houses with higher grade ie grade 13 could be superior than those with lower grade. Outliers are also evident"
      ]
    },
    {
      "cell_type": "markdown",
      "metadata": {
        "id": "3vPPbJTUHoTd",
        "colab_type": "text"
      },
      "source": [
        "ii)Multivariate Analysis"
      ]
    },
    {
      "cell_type": "code",
      "metadata": {
        "id": "CPF4zrCVuTws",
        "colab_type": "code",
        "colab": {
          "base_uri": "https://localhost:8080/",
          "height": 851
        },
        "outputId": "475931fd-7ac7-4927-deed-123e1989e34d"
      },
      "source": [
        "# Correlation matrix to check relationship of different variables\n",
        "\n",
        "df_corr = df.corr()\n",
        "plt.figure(figsize=(20,15))\n",
        "\n",
        "# We then plot our heatmap visualistion\n",
        "import seaborn as sns\n",
        "sns.heatmap(df_corr, annot=True, linewidth=0.5, cmap='coolwarm');\n"
      ],
      "execution_count": null,
      "outputs": [
        {
          "output_type": "display_data",
          "data": {
            "image/png": "[encoded data removed]",
            "text/plain": [
              "<Figure size 1440x1080 with 2 Axes>"
            ]
          },
          "metadata": {
            "tags": [],
            "needs_background": "light"
          }
        }
      ]
    },
    {
      "cell_type": "markdown",
      "metadata": {
        "id": "e-uXlfZMAKYW",
        "colab_type": "text"
      },
      "source": [
        "We observe that sqft_lot15, sqft above,square feet living,bathrooms and grade have above 0.5 correlation with the price of the house. No of bedrooms has 0.3 positive correlation to the price, this may imply that the size could be basic, then customers look at how big the house is which is determined by square feet and grade of the house is also a key factor.\n",
        "\n",
        "Factors like year build, post code,longitude, condition are not influecing the price as much"
      ]
    },
    {
      "cell_type": "code",
      "metadata": {
        "id": "ci9zjs3-uTkl",
        "colab_type": "code",
        "colab": {}
      },
      "source": [
        "#Plotting scatter plots "
      ],
      "execution_count": null,
      "outputs": []
    },
    {
      "cell_type": "markdown",
      "metadata": {
        "id": "Am73RAg4voGu",
        "colab_type": "text"
      },
      "source": [
        "iii) Checking for multicolllinearity\n",
        "\n",
        "This is to help us asssess if there is multicollinearity expressed among our independent variables."
      ]
    },
    {
      "cell_type": "code",
      "metadata": {
        "id": "VPfq8jAKvv9V",
        "colab_type": "code",
        "colab": {}
      },
      "source": [
        "\n",
        "X= df.drop(['price'], axis=1)\n",
        "y= df['price']"
      ],
      "execution_count": 141,
      "outputs": []
    },
    {
      "cell_type": "code",
      "metadata": {
        "id": "bos_TPS3vv7k",
        "colab_type": "code",
        "colab": {}
      },
      "source": [
        "from statsmodels.stats.outliers_influence import variance_inflation_factor \n",
        "\n",
        "vif = pd.DataFrame() \n",
        "\n",
        "vif[\"vif_factor\"] =  [variance_inflation_factor(df.values, j) for j in range(df.shape[1])]\n",
        "\n",
        "vif[\"feature\"] = df.columns"
      ],
      "execution_count": 142,
      "outputs": []
    },
    {
      "cell_type": "code",
      "metadata": {
        "id": "V4HZABsVvv5l",
        "colab_type": "code",
        "colab": {
          "base_uri": "https://localhost:8080/",
          "height": 374
        },
        "outputId": "3b3b751e-605a-4e77-fc01-524248d25f01"
      },
      "source": [
        "#Printing VIF(variance_inflation_factor)\n",
        "print(vif)"
      ],
      "execution_count": 51,
      "outputs": [
        {
          "output_type": "stream",
          "text": [
            "    vif_factor        feature\n",
            "0     3.632659             id\n",
            "1     3.330835          price\n",
            "2     1.673248       bedrooms\n",
            "3     3.375022      bathrooms\n",
            "4          inf    sqft_living\n",
            "5     2.104736       sqft_lot\n",
            "6     1.951202         floors\n",
            "7     1.266535     waterfront\n",
            "8     1.460071           view\n",
            "9     1.228050      condition\n",
            "10    3.706482          grade\n",
            "11         inf     sqft_above\n",
            "12         inf  sqft_basement\n",
            "13    2.268879       yr_built\n",
            "14    1.146372   yr_renovated\n",
            "15    0.505574        zipcode\n",
            "16    1.351917            lat\n",
            "17    1.832974           long\n",
            "18    2.889117  sqft_living15\n",
            "19    2.145441     sqft_lot15\n"
          ],
          "name": "stdout"
        }
      ]
    },
    {
      "cell_type": "markdown",
      "metadata": {
        "id": "sP919Jac5hH6",
        "colab_type": "text"
      },
      "source": [
        "We observe that our most of our score are below 4 which means that high colinearity does not exist in our independent variables. We have sqft living, sqft above and sqrft basement with infinite values"
      ]
    },
    {
      "cell_type": "markdown",
      "metadata": {
        "id": "p7w_pdP4slNY",
        "colab_type": "text"
      },
      "source": [
        "###  **5. Implementing different models**\n",
        "\n",
        "1)Multiple linear Regression Model"
      ]
    },
    {
      "cell_type": "code",
      "metadata": {
        "id": "y4kEe-YysqfD",
        "colab_type": "code",
        "colab": {}
      },
      "source": [
        "#Defining our variables  into X and y\n",
        "X= df.drop(['price'], axis=1)\n",
        "y= df['price']"
      ],
      "execution_count": 68,
      "outputs": []
    },
    {
      "cell_type": "code",
      "metadata": {
        "id": "7LagE5VwsqrE",
        "colab_type": "code",
        "colab": {}
      },
      "source": [
        "# Linear Regression model\n",
        "linear = LinearRegression()\n",
        "\n",
        "#splitting our dataset into train and test\n",
        "X_train, X_test, y_train, y_test = train_test_split(X, y, test_size=0.2, random_state=10)\n",
        "\n",
        "# train model\n",
        "linear.fit(X_train, y_train)\n",
        "\n",
        "# using the trained model to make predictions on x_test\n",
        "y_pred_linear = linear.predict(X_test)\n"
      ],
      "execution_count": 70,
      "outputs": []
    },
    {
      "cell_type": "code",
      "metadata": {
        "id": "3yv51o-Dsq0L",
        "colab_type": "code",
        "colab": {
          "base_uri": "https://localhost:8080/",
          "height": 102
        },
        "outputId": "63580bcc-d2d5-4ff0-9e0b-64dabddf69e3"
      },
      "source": [
        "#Printing the metrics to assess performance of the model\n",
        "linear_MAE = metrics.mean_absolute_error(y_test, y_pred_linear)\n",
        "linear_MSE= metrics.mean_squared_error(y_test, y_pred_linear)\n",
        "linear_RMSE = np.sqrt(metrics.mean_absolute_error(y_test, y_pred_linear))\n",
        "linear_R2 = metrics.r2_score(y_test, y_pred_linear)\n",
        "\n",
        "print('Linear Regression')\n",
        "print('Mean Absolute Error', linear_MAE)\n",
        "print('Mean Squared Error', linear_MSE)\n",
        "print('Root Mean Squared Error',linear_RMSE)\n",
        "print('R2 Score',linear_R2)"
      ],
      "execution_count": 71,
      "outputs": [
        {
          "output_type": "stream",
          "text": [
            "Linear Regression\n",
            "Mean Absolute Error 123682.09789946444\n",
            "Mean Squared Error 43476677824.023735\n",
            "Root Mean Squared Error 351.6846569008441\n",
            "R2 Score 0.7027629185607839\n"
          ],
          "name": "stdout"
        }
      ]
    },
    {
      "cell_type": "markdown",
      "metadata": {
        "id": "ot4gAeKwODcE",
        "colab_type": "text"
      },
      "source": [
        "Our model has performed well with R2 score of 70.2% and with RMSE of 351.68"
      ]
    },
    {
      "cell_type": "code",
      "metadata": {
        "id": "VGbzX7zBsqmw",
        "colab_type": "code",
        "colab": {
          "base_uri": "https://localhost:8080/",
          "height": 290
        },
        "outputId": "f10d5ae8-ce13-403e-bb17-46594c62034c"
      },
      "source": [
        "#Visualizing the actual price and the predicted price\n",
        "axis = sns.regplot(x = y_test, y = y_pred_linear)\n",
        "axis.set(xlabel = 'Actual price',\n",
        "      ylabel = 'Predicted price')\n",
        "plt.show()"
      ],
      "execution_count": 14,
      "outputs": [
        {
          "output_type": "display_data",
          "data": {
            "image/png": "[encoded data removed]",
            "text/plain": [
              "<Figure size 432x288 with 1 Axes>"
            ]
          },
          "metadata": {
            "tags": [],
            "needs_background": "light"
          }
        }
      ]
    },
    {
      "cell_type": "markdown",
      "metadata": {
        "id": "WEB5wdSz4fCm",
        "colab_type": "text"
      },
      "source": [
        "We observe that our model performed well as most of our prediction scatter around the line of best fit."
      ]
    },
    {
      "cell_type": "code",
      "metadata": {
        "id": "arBvsiYk3QWc",
        "colab_type": "code",
        "colab": {
          "base_uri": "https://localhost:8080/",
          "height": 419
        },
        "outputId": "48c6a408-3af3-48be-bdc4-b75f7f405232"
      },
      "source": [
        "#To compare the actual output values for X_test with the predicted values\n",
        "\n",
        "df = pd.DataFrame({'Actual': y_test, 'Predicted': y_pred})\n",
        "df"
      ],
      "execution_count": 149,
      "outputs": [
        {
          "output_type": "execute_result",
          "data": {
            "text/html": [
              "<div>\n",
              "<style scoped>\n",
              "    .dataframe tbody tr th:only-of-type {\n",
              "        vertical-align: middle;\n",
              "    }\n",
              "\n",
              "    .dataframe tbody tr th {\n",
              "        vertical-align: top;\n",
              "    }\n",
              "\n",
              "    .dataframe thead th {\n",
              "        text-align: right;\n",
              "    }\n",
              "</style>\n",
              "<table border=\"1\" class=\"dataframe\">\n",
              "  <thead>\n",
              "    <tr style=\"text-align: right;\">\n",
              "      <th></th>\n",
              "      <th>Actual</th>\n",
              "      <th>Predicted</th>\n",
              "    </tr>\n",
              "  </thead>\n",
              "  <tbody>\n",
              "    <tr>\n",
              "      <th>957</th>\n",
              "      <td>323000.0</td>\n",
              "      <td>539234.534275</td>\n",
              "    </tr>\n",
              "    <tr>\n",
              "      <th>14143</th>\n",
              "      <td>690000.0</td>\n",
              "      <td>539477.462075</td>\n",
              "    </tr>\n",
              "    <tr>\n",
              "      <th>19452</th>\n",
              "      <td>142000.0</td>\n",
              "      <td>539273.273722</td>\n",
              "    </tr>\n",
              "    <tr>\n",
              "      <th>20510</th>\n",
              "      <td>560000.0</td>\n",
              "      <td>539475.921493</td>\n",
              "    </tr>\n",
              "    <tr>\n",
              "      <th>18354</th>\n",
              "      <td>545000.0</td>\n",
              "      <td>539081.498503</td>\n",
              "    </tr>\n",
              "    <tr>\n",
              "      <th>...</th>\n",
              "      <td>...</td>\n",
              "      <td>...</td>\n",
              "    </tr>\n",
              "    <tr>\n",
              "      <th>5349</th>\n",
              "      <td>386591.0</td>\n",
              "      <td>539247.779819</td>\n",
              "    </tr>\n",
              "    <tr>\n",
              "      <th>11082</th>\n",
              "      <td>344950.0</td>\n",
              "      <td>539308.051200</td>\n",
              "    </tr>\n",
              "    <tr>\n",
              "      <th>4413</th>\n",
              "      <td>1150000.0</td>\n",
              "      <td>539266.119655</td>\n",
              "    </tr>\n",
              "    <tr>\n",
              "      <th>17461</th>\n",
              "      <td>622200.0</td>\n",
              "      <td>539473.056762</td>\n",
              "    </tr>\n",
              "    <tr>\n",
              "      <th>9848</th>\n",
              "      <td>450000.0</td>\n",
              "      <td>539354.152446</td>\n",
              "    </tr>\n",
              "  </tbody>\n",
              "</table>\n",
              "<p>4323 rows × 2 columns</p>\n",
              "</div>"
            ],
            "text/plain": [
              "          Actual      Predicted\n",
              "957     323000.0  539234.534275\n",
              "14143   690000.0  539477.462075\n",
              "19452   142000.0  539273.273722\n",
              "20510   560000.0  539475.921493\n",
              "18354   545000.0  539081.498503\n",
              "...          ...            ...\n",
              "5349    386591.0  539247.779819\n",
              "11082   344950.0  539308.051200\n",
              "4413   1150000.0  539266.119655\n",
              "17461   622200.0  539473.056762\n",
              "9848    450000.0  539354.152446\n",
              "\n",
              "[4323 rows x 2 columns]"
            ]
          },
          "metadata": {
            "tags": []
          },
          "execution_count": 149
        }
      ]
    },
    {
      "cell_type": "markdown",
      "metadata": {
        "id": "jn9X-2bpS2Vf",
        "colab_type": "text"
      },
      "source": [
        "i)Visualizing residual plot"
      ]
    },
    {
      "cell_type": "code",
      "metadata": {
        "id": "h9FZ71WDx-L5",
        "colab_type": "code",
        "colab": {
          "base_uri": "https://localhost:8080/",
          "height": 295
        },
        "outputId": "3c75d239-e99c-4936-d718-9d5a8ef2fb32"
      },
      "source": [
        "#Visualizing residual plot for our model\n",
        "sns.residplot(y='residuals', x='prediction', data=linear_residuals_df, color='blue')\n",
        "plt.title(\"Residual Plot\")\n",
        "plt.xlabel(\"prediction\")\n",
        "plt.ylabel(\"Residual\")\n",
        "plt.show() "
      ],
      "execution_count": 19,
      "outputs": [
        {
          "output_type": "display_data",
          "data": {
            "image/png": "[encoded data removed]",
            "text/plain": [
              "<Figure size 432x288 with 1 Axes>"
            ]
          },
          "metadata": {
            "tags": [],
            "needs_background": "light"
          }
        }
      ]
    },
    {
      "cell_type": "markdown",
      "metadata": {
        "id": "Ox9j4mqCQhy4",
        "colab_type": "text"
      },
      "source": [
        "From the residual plot its evident that the variance of most data points are the same especially in the beginning, we see the vertical range of the residuals increases as the fitted values increases."
      ]
    },
    {
      "cell_type": "markdown",
      "metadata": {
        "id": "wNihTLV0SILQ",
        "colab_type": "text"
      },
      "source": [
        "ii)Assessing heteroskedasticity using Barlett's test."
      ]
    },
    {
      "cell_type": "code",
      "metadata": {
        "id": "Jz_7UPYERnYe",
        "colab_type": "code",
        "colab": {
          "base_uri": "https://localhost:8080/",
          "height": 51
        },
        "outputId": "54a21c64-b494-45e1-d333-fbe42866bd34"
      },
      "source": [
        "import scipy as sp\n",
        "\n",
        "test_result, p_value = sp.stats.bartlett(y_pred, residuals)\n",
        "\n",
        "# To interpret the results we must also compute a critical value of the chi squared distribution\n",
        "degree_of_freedom = len(y_pred)-1\n",
        "probability = 1 - p_value\n",
        "\n",
        "critical_value = sp.stats.chi2.ppf(probability, degree_of_freedom)\n",
        "print(critical_value)\n",
        "\n",
        "# If the test_result is greater than the critical value, then we reject our null\n",
        "# hypothesis. This would mean that there are patterns to the variance of the data\n",
        "\n",
        "# Otherwise, we can identify no patterns, and we accept the null hypothesis that \n",
        "# the variance is homogeneous across our data\n",
        "\n",
        "if (test_result > critical_value):\n",
        "  print('the variances are unequal, and the model should be reassessed')\n",
        "else:\n",
        "  print('the variances are homogeneous!') \n"
      ],
      "execution_count": 179,
      "outputs": [
        {
          "output_type": "stream",
          "text": [
            "inf\n",
            "the variances are homogeneous!\n"
          ],
          "name": "stdout"
        }
      ]
    },
    {
      "cell_type": "markdown",
      "metadata": {
        "id": "ylvYo6eETB7N",
        "colab_type": "text"
      },
      "source": [
        "We therefore conclude that the variances are homogeneous"
      ]
    },
    {
      "cell_type": "markdown",
      "metadata": {
        "id": "_TnJRVpi__8l",
        "colab_type": "text"
      },
      "source": [
        "\n",
        "2)Ridge regression Model"
      ]
    },
    {
      "cell_type": "code",
      "metadata": {
        "id": "ccAIUEP8_-G4",
        "colab_type": "code",
        "colab": {
          "base_uri": "https://localhost:8080/",
          "height": 51
        },
        "outputId": "31538871-ebd4-44a8-c2f1-f4915d54ddf7"
      },
      "source": [
        "#Defining our variables  into X and y\n",
        "X= df.drop(['price'], axis=1)\n",
        "y= df['price'] \n",
        "\n",
        "# Creating our baseline regression model that has no regularization to it \n",
        "#so that we compare with ridge regression model\n",
        "\n",
        "regression = LinearRegression()\n",
        "regression.fit(X,y)\n",
        "\n",
        "# Checking accuracy of our baseline regression model\n",
        "meanSquaredError=(mean_squared_error(y_true=y,y_pred=regression.predict(X)))\n",
        "print(\"MSE:\", meanSquaredError)\n",
        "rootMeanSquaredError = sqrt(meanSquaredError)\n",
        "print(\"RMSE:\", rootMeanSquaredError)\n"
      ],
      "execution_count": null,
      "outputs": [
        {
          "output_type": "stream",
          "text": [
            "MSE: 40504545596.7406\n",
            "RMSE: 201257.41128400862\n"
          ],
          "name": "stdout"
        }
      ]
    },
    {
      "cell_type": "code",
      "metadata": {
        "id": "kOiGjNWkzqVG",
        "colab_type": "code",
        "colab": {
          "base_uri": "https://localhost:8080/",
          "height": 102
        },
        "outputId": "a04141d2-249a-40af-e4d4-5d9f6e35c092"
      },
      "source": [
        "# Creating X and y variables for ridge regression\n",
        "from sklearn.metrics import mean_squared_error\n",
        "from math import sqrt\n",
        "\n",
        "X= df.drop(['price'], axis=1)\n",
        "y= df['price']\n",
        "\n",
        "# Splitting the dataset into training and testing sets\n",
        "\n",
        "X_train, X_test, y_train, y_test = train_test_split(X, y, test_size = 0.2, random_state = 200)\n",
        "\n",
        "# We will train our model\n",
        "\n",
        "ridge = Ridge(normalize=True)\n",
        "ridge.fit(X_train, y_train)\n",
        "\n",
        "# Making predictions\n",
        "\n",
        "y_pred_ridge = ridge.predict(X_test) \n",
        "\n",
        "#Printing the metrics to assess performance of the ridge model\n",
        "\n",
        "ridge_mae = metrics.mean_absolute_error(y_test, y_pred_ridge)\n",
        "ridge_mse = metrics.mean_squared_error(y_test, y_pred_ridge)\n",
        "ridge_rmse = np.sqrt(metrics.mean_squared_error(y_test, y_pred_ridge))\n",
        "ridge_r2 = metrics.r2_score(y_test, y_pred_ridge)\n",
        "\n",
        "print('ridge')\n",
        "print('Mean Absolute Error:', ridge_mae)  \n",
        "print('Mean Squared Error:', ridge_mse)  \n",
        "print('Root Mean Squared Error:', ridge_rmse)  \n",
        "print('R2:', ridge_r2)  "
      ],
      "execution_count": 74,
      "outputs": [
        {
          "output_type": "stream",
          "text": [
            "ridge\n",
            "Mean Absolute Error: 131811.6309140789\n",
            "Mean Squared Error: 51220541299.58546\n",
            "Root Mean Squared Error: 226319.55571621613\n",
            "R2: 0.630584454680587\n"
          ],
          "name": "stdout"
        }
      ]
    },
    {
      "cell_type": "markdown",
      "metadata": {
        "id": "Z7kVh6l9OUmH",
        "colab_type": "text"
      },
      "source": [
        "We observe that R2 for baseline ridge model is 63% and an\n",
        "RMSE:  226,319.55"
      ]
    },
    {
      "cell_type": "markdown",
      "metadata": {
        "id": "My1Edwqkpgi3",
        "colab_type": "text"
      },
      "source": [
        "i)Improving performance of ridge: L2 Regularization"
      ]
    },
    {
      "cell_type": "code",
      "metadata": {
        "id": "E33EbppAouKv",
        "colab_type": "code",
        "colab": {
          "base_uri": "https://localhost:8080/",
          "height": 51
        },
        "outputId": "1280bce9-a65f-46c4-f848-f61a08f41eb7"
      },
      "source": [
        "from sklearn.model_selection import KFold\n",
        "from sklearn.metrics import mean_squared_error\n",
        "from math import sqrt\n",
        "\n",
        "# For us too improve our ridge model we need to first determine the most appropriate value for the l2 regularization. \n",
        "# L2 is the name of the hyperparameter that is used in ridge regression. \n",
        "# To determine the value of a hyperparameter we will use gridSearch. \n",
        "\n",
        "# Alpha is hyperparameter we are trying to set. \n",
        "#We have set the log space as below which is the range of values we want to test. \n",
        "\n",
        "parameters = {'alpha': np.logspace(-20,8,29)}\n",
        "\n",
        "# We will apply cross validation of 10 folds\n",
        "\n",
        "kfold = KFold(n_splits = 10)\n",
        "\n",
        "# We will use  grid search to find the optimal parameters \n",
        "\n",
        "ridge = Ridge(normalize=True)\n",
        "grid_search = GridSearchCV(estimator=ridge,param_grid={'alpha':np.logspace(-20,8,29)},scoring='neg_mean_squared_error',n_jobs=1,refit=True,cv=10)\n",
        "\n",
        "# #To fit our regularised model with the best parameters\n",
        "\n",
        "results = grid_search.fit(X, y)\n",
        "\n",
        "# Displaying the best parameters and the the best score\n",
        "# meanSquaredError = metrics.mean_squared_error(results)\n",
        "\n",
        "print(grid_search.best_params_)\n",
        "(abs(np.sqrt(grid_search.best_score_)))\n",
        "\n",
        "rootMeanSquaredError = sqrt(meanSquaredError)\n",
        "print(\"RMSE:\", rootMeanSquaredError)\n"
      ],
      "execution_count": 150,
      "outputs": [
        {
          "output_type": "stream",
          "text": [
            "{'alpha': 0.01}\n",
            "RMSE: 367246.7934480279\n"
          ],
          "name": "stdout"
        }
      ]
    },
    {
      "cell_type": "markdown",
      "metadata": {
        "id": "q_xz47YpRR4Z",
        "colab_type": "text"
      },
      "source": [
        "We observe that the value of optimal value of alpha suggested is 0.01"
      ]
    },
    {
      "cell_type": "markdown",
      "metadata": {
        "id": "72ymDwpV6rW3",
        "colab_type": "text"
      },
      "source": [
        "ii)Applying best parameters and assess performance of ridge model"
      ]
    },
    {
      "cell_type": "code",
      "metadata": {
        "id": "zYW5VUKxLP8x",
        "colab_type": "code",
        "colab": {
          "base_uri": "https://localhost:8080/",
          "height": 68
        },
        "outputId": "45c00d47-70be-4e9a-a1be-93f7f09d2a10"
      },
      "source": [
        "#Testing how our model will perform when we apply the best parameter alpha to tune the variables\n",
        "\n",
        "ridge = Ridge(normalize=True, alpha =0.01)\n",
        "ridge.fit(X_train, y_train)\n",
        "\n",
        "# Making predictions\n",
        "\n",
        "y_pred_ridge = ridge.predict(X_test)\n",
        "\n",
        "# To measure the accuracy of the ridge model, we will print the metrics\n",
        "\n",
        "meanSquaredError=(mean_squared_error(y_true=y,y_pred=ridge.predict(X)))\n",
        "print(\"MSE:\", meanSquaredError)\n",
        "rootMeanSquaredError = sqrt(meanSquaredError)\n",
        "print(\"RMSE:\", rootMeanSquaredError)\n",
        "ridge_r2 = metrics.r2_score(y_test, y_pred_ridge)\n",
        "print('R2:', ridge_r2)"
      ],
      "execution_count": 93,
      "outputs": [
        {
          "output_type": "stream",
          "text": [
            "MSE: 40548779062.50054\n",
            "RMSE: 201367.274060361\n",
            "R2: 0.7018213762321307\n"
          ],
          "name": "stdout"
        }
      ]
    },
    {
      "cell_type": "markdown",
      "metadata": {
        "id": "vMYSbw5uKq2d",
        "colab_type": "text"
      },
      "source": [
        "We observe that our ridge model has perfomed better with R2 of 70.1% after applying alpha of 0.01 as it has lower MSE compared to our ridge model without tuning the parameters.\n",
        "\n",
        "Ridge regression is specialized to analyze multiple regression data which is multicollinearity in nature. Some of our variables had inifinite VIF value and this did not affect perfomance of ridge regression model."
      ]
    },
    {
      "cell_type": "markdown",
      "metadata": {
        "id": "f5RqNzbKSZMi",
        "colab_type": "text"
      },
      "source": [
        "iii)Plotting residual plots to check for bias"
      ]
    },
    {
      "cell_type": "code",
      "metadata": {
        "id": "L0INJV-DqYzS",
        "colab_type": "code",
        "colab": {
          "base_uri": "https://localhost:8080/",
          "height": 295
        },
        "outputId": "1d798343-d00d-458f-d741-f7c4bc883a13"
      },
      "source": [
        "#Plotting the residual plot to help us assess for bias\n",
        "#This is determined by difference between our predicted values and our observed values\n",
        "\n",
        "residuals=np.subtract(y_pred,y_test)\n",
        "\n",
        "plt.scatter(y_pred, residuals, color='blue')\n",
        "plt.title('Residual Plot') \n",
        "plt.ylabel('residual')\n",
        "plt.xlabel('fitted values')\n",
        "plt.axhline(y = (residuals.mean()), color='green', linewidth=2)\n",
        "plt.show()\n"
      ],
      "execution_count": 98,
      "outputs": [
        {
          "output_type": "display_data",
          "data": {
            "image/png": "[encoded data removed]",
            "text/plain": [
              "<Figure size 432x288 with 1 Axes>"
            ]
          },
          "metadata": {
            "tags": [],
            "needs_background": "light"
          }
        }
      ]
    },
    {
      "cell_type": "markdown",
      "metadata": {
        "id": "yk9ZJsnrVyho",
        "colab_type": "text"
      },
      "source": [
        "We observe our prediction follows the pattern of a good residual plot as it has reveals the following: \n",
        "It has a high density of points close to the origin and a low density of points away from the origin\n",
        "It is symmetric about the origin.\n",
        "\n",
        "This therefor maens that variance of most data points are the same, though there is a pattern of increased negative variance as distribution increases.\n",
        "  "
      ]
    },
    {
      "cell_type": "markdown",
      "metadata": {
        "id": "F3xGWqDtDKv4",
        "colab_type": "text"
      },
      "source": [
        "3)Lasso regression"
      ]
    },
    {
      "cell_type": "code",
      "metadata": {
        "id": "2yaMX-_UDNw-",
        "colab_type": "code",
        "colab": {}
      },
      "source": [
        "# Before building the models, let's first scale data. \n",
        "# Lasso put constraints on the size of the coefficients associated to each variable. \n",
        "# But, this value depends on the magnitude of each variable and it is therefore \n",
        "# necessary to center and reduce, or standardize, the variables.\n",
        "\n",
        "#\n",
        "# Importing StandardScaler\n",
        "\n",
        "from sklearn.preprocessing import StandardScaler\n",
        "\n",
        "# Creating features and target variables\n",
        "\n",
        "X= df.drop(['price'], axis=1)\n",
        "y= df['price']\n",
        "\n",
        "# Scaling the data \n",
        "\n",
        "scaler = StandardScaler()\n",
        "scaler.fit(X)\n",
        "X = scaler.transform(X)"
      ],
      "execution_count": 100,
      "outputs": []
    },
    {
      "cell_type": "code",
      "metadata": {
        "id": "ZyP4RqzPDN4u",
        "colab_type": "code",
        "colab": {
          "base_uri": "https://localhost:8080/",
          "height": 190
        },
        "outputId": "827898d7-8f1d-44b1-84ae-c873e0976b27"
      },
      "source": [
        "# We can basically build the Lasso model. \n",
        "# But for now, we will train it on the whole dataset and look at an R-squared score and on the model coefficients. \n",
        "# Note, that we are not setting the alpha, it is defined as 1.\n",
        "\n",
        "# Creating lasso object\n",
        "# \n",
        "lasso = linear_model.Lasso() \n",
        "\n",
        "# Fitting the models\n",
        "# \n",
        "lasso.fit(X, y) \n",
        "\n",
        "# Print scores, MSE, and coefficients\n",
        "# \n",
        "print(\"lasso score:\", lasso.score(X, y)) \n",
        "print(\"lasso MSE:\", mean_squared_error(y, lasso.predict(X))) \n",
        "print(\"lasso coef:\", lasso.coef_) "
      ],
      "execution_count": 102,
      "outputs": [
        {
          "output_type": "stream",
          "text": [
            "lasso score: 0.6997525536733683\n",
            "lasso MSE: 40518022116.35509\n",
            "lasso coef: [-33292.21075087  31697.82535674 259457.31589161   5315.2138083\n",
            "   3614.96948484  50439.07198689  40563.44510569  17186.55108076\n",
            " 112827.34401399 -83763.68277541 -58548.42851749 -77025.47282042\n",
            "   7962.04001793 -31167.26388666  83526.36572597 -30269.33526327\n",
            "  14850.06168935 -10439.75419149]\n"
          ],
          "name": "stdout"
        },
        {
          "output_type": "stream",
          "text": [
            "/usr/local/lib/python3.6/dist-packages/sklearn/linear_model/_coordinate_descent.py:476: ConvergenceWarning: Objective did not converge. You might want to increase the number of iterations. Duality gap: 27085655586135.5, tolerance: 291664766083.6765\n",
            "  positive)\n"
          ],
          "name": "stderr"
        }
      ]
    },
    {
      "cell_type": "markdown",
      "metadata": {
        "id": "KPtnffA0YDNt",
        "colab_type": "text"
      },
      "source": [
        "We observe that our model has an accuracy score of 69.98%\n",
        "\n",
        "Based on the coefficients, the features that influence price most are the ones with high coefficient values."
      ]
    },
    {
      "cell_type": "markdown",
      "metadata": {
        "id": "ugG5nHodgB2T",
        "colab_type": "text"
      },
      "source": [
        "i) L1 regularization to tune the parameters"
      ]
    },
    {
      "cell_type": "code",
      "metadata": {
        "id": "O1KORadfDNt1",
        "colab_type": "code",
        "colab": {
          "base_uri": "https://localhost:8080/",
          "height": 153
        },
        "outputId": "f80cd55a-cdc6-4e07-815b-d8e91127aedf"
      },
      "source": [
        "# Splitting the data into training and test sets, building Lasso, \n",
        "# and choosing the regularization parameter with the help of GridSearch. \n",
        "# For that, we have to define the set of parameters for GridSearch. \n",
        "# In this case, a model with the highest R-squared score will give us the best parameters.\n",
        "# \n",
        "\n",
        "# Making necessary imports, split data into training and test sets, and choose a set of parameters \n",
        "from sklearn.model_selection import train_test_split\n",
        "from sklearn.model_selection import GridSearchCV\n",
        "import warnings\n",
        "warnings.filterwarnings(\"ignore\")\n",
        "\n",
        "X_train, X_test, y_train, y_test = train_test_split(X, y, test_size=0.25, random_state=101)\n",
        "parameters = {'alpha': np.concatenate((np.arange(0.1,2,0.1), np.arange(2, 5, 0.5), np.arange(5, 25, 1)))}\n",
        "\n",
        "lasso = linear_model.Lasso() \n",
        "gridlasso = GridSearchCV(lasso, parameters, scoring ='r2') \n",
        "\n",
        "# Fitting models \n",
        "gridlasso.fit(X_train, y_train) \n",
        "\n",
        "\n",
        "#print the best parameters, R-squared scores, MSE, and coefficients\n",
        "\n",
        "print(\"lasso best parameters:\", gridlasso.best_params_) \n",
        "print(\"lasso score:\", gridlasso.score(X_test, y_test)) \n",
        "print(\"lasso MSE:\", mean_squared_error(y_test, gridlasso.predict(X_test)))\n",
        "print(\"lasso best estimator coef:\", gridlasso.best_estimator_.coef_)"
      ],
      "execution_count": 111,
      "outputs": [
        {
          "output_type": "stream",
          "text": [
            "lasso best parameters: {'alpha': 21.0}\n",
            "lasso score: 0.7097090163878493\n",
            "lasso MSE: 41211703110.60984\n",
            "lasso best estimator coef: [-3.69884742e+04  3.62275459e+04  2.84236867e+02  1.41883588e-01\n",
            "  1.13651350e+04  5.50535029e+05  5.18910691e+04  2.90625912e+04\n",
            "  9.62675194e+04 -1.03477736e+02 -1.35504662e+02 -2.62472207e+03\n",
            "  1.75862943e+01 -5.85090613e+02  6.01343447e+05 -2.15440293e+05\n",
            "  2.44235201e+01 -3.60147101e-01]\n"
          ],
          "name": "stdout"
        }
      ]
    },
    {
      "cell_type": "markdown",
      "metadata": {
        "id": "wxHUqyJcZShu",
        "colab_type": "text"
      },
      "source": [
        "We observe that the model accuracy has improved to a score of 70.97%, the best alpha value for tuning the parameters is 21.0. The coeffients have also reduced.\n",
        "\n",
        "Lasso also helps with feature selection and eliminates features that are not influencing the dependent variable"
      ]
    },
    {
      "cell_type": "code",
      "metadata": {
        "id": "5xjjmuEVNuky",
        "colab_type": "code",
        "colab": {
          "base_uri": "https://localhost:8080/",
          "height": 458
        },
        "outputId": "0e7aa9a6-5632-4d26-8cba-836fa2e05dbb"
      },
      "source": [
        "#Visualizing Lasso coefficients\n",
        "\n",
        "coefsLasso = [] \n",
        "\n",
        "# Building Lasso for 200 values of alpha and write the coefficients into array\n",
        "# \n",
        "alphasLasso = np.arange (0, 20, 0.1) \n",
        "for i in range(200):\n",
        "    lasso = linear_model.Lasso(alpha=alphasLasso[i])\n",
        "    lasso.fit(X_train, y_train)\n",
        "    coefsLasso.append(lasso.coef_) \n",
        "\n",
        "# Building Lasso coefficient plots\n",
        "# \n",
        "plt.figure(figsize = (16,7))\n",
        "\n",
        "plt.subplot(121)\n",
        "plt.plot(alphasLasso, coefsLasso)\n",
        "plt.title('Lasso coefficients')\n",
        "plt.xlabel('alpha')\n",
        "plt.ylabel('coefs')\n",
        "\n",
        "plt.show()"
      ],
      "execution_count": 175,
      "outputs": [
        {
          "output_type": "display_data",
          "data": {
            "image/png": "[encoded data removed]",
            "text/plain": [
              "<Figure size 1152x504 with 1 Axes>"
            ]
          },
          "metadata": {
            "tags": [],
            "needs_background": "light"
          }
        }
      ]
    },
    {
      "cell_type": "markdown",
      "metadata": {
        "id": "iSPZ_a3dObja",
        "colab_type": "text"
      },
      "source": [
        "We can observe that most features coefficient values have been reduced close to zero with the exception of 3 that have very high coeffients"
      ]
    },
    {
      "cell_type": "markdown",
      "metadata": {
        "id": "BvpigaugakXK",
        "colab_type": "text"
      },
      "source": [
        "4)Elastic net regression"
      ]
    },
    {
      "cell_type": "code",
      "metadata": {
        "id": "3kkCHXycc3kv",
        "colab_type": "code",
        "colab": {}
      },
      "source": [
        "from sklearn.model_selection import GridSearchCV\n",
        "from sklearn.linear_model import ElasticNet\n",
        "from sklearn.linear_model import LinearRegression\n",
        "from sklearn.metrics import mean_squared_error\n",
        "from sklearn.metrics import mean_squared_error\n",
        "from math import sqrt"
      ],
      "execution_count": 103,
      "outputs": []
    },
    {
      "cell_type": "code",
      "metadata": {
        "id": "HA_Mr5_2apdN",
        "colab_type": "code",
        "colab": {
          "base_uri": "https://localhost:8080/",
          "height": 68
        },
        "outputId": "d7dc8554-6d6f-464d-a321-df364f56ca7b"
      },
      "source": [
        "#Creating X and y variables\n",
        "\n",
        "X= df.drop(['price'], axis=1)\n",
        "y= df['price'] \n",
        "\n",
        "# Splitting the dataset into training and testing sets\n",
        "\n",
        "X_train, X_test, y_train, y_test = train_test_split(X, y, test_size = 0.2, random_state = 200)\n",
        "\n",
        "# We will train our model\n",
        "\n",
        "elastic= ElasticNet(normalize=True)\n",
        "elastic.fit(X_train, y_train)\n",
        "\n",
        "# Making predictions\n",
        "\n",
        "y_pred = elastic.predict(X_test)\n",
        "\n",
        "# To measure the accuracy of the elastic net regression model, we will pring MSE and RMSE\n",
        "\n",
        "meanSquaredError=(mean_squared_error(y_true=y,y_pred=elastic.predict(X)))\n",
        "print(\"MSE:\", meanSquaredError)\n",
        "rootMeanSquaredError = sqrt(meanSquaredError)\n",
        "print(\"RMSE:\", rootMeanSquaredError) \n",
        "print(\"elastic score:\", elastic.score(X_test, y_pred))"
      ],
      "execution_count": 110,
      "outputs": [
        {
          "output_type": "stream",
          "text": [
            "MSE: 134870207297.8585\n",
            "RMSE: 367246.7934480279\n",
            "elastic score: 1.0\n"
          ],
          "name": "stdout"
        }
      ]
    },
    {
      "cell_type": "markdown",
      "metadata": {
        "id": "q43mD1wxe5Fm",
        "colab_type": "text"
      },
      "source": [
        "Our elastic net model got an RMSE score of  367,246 and an accuracy score of 100% this is an issue of overfitting. We need to tune the paramenters to overcome this."
      ]
    },
    {
      "cell_type": "markdown",
      "metadata": {
        "id": "0SIhXVPfhEJW",
        "colab_type": "text"
      },
      "source": [
        "i)Cross validating to get the best parameters"
      ]
    },
    {
      "cell_type": "code",
      "metadata": {
        "id": "oPFAt62idnfn",
        "colab_type": "code",
        "colab": {
          "base_uri": "https://localhost:8080/",
          "height": 51
        },
        "outputId": "383c6fa3-34e5-4f2c-c2a7-577bde60acd9"
      },
      "source": [
        "from sklearn.model_selection import KFold\n",
        "# Elastic net, just like ridge and lasso regression, requires normalize data. \n",
        "# This argument  is set inside the ElasticNet function. \n",
        "# The second thing we need to do is create our grid.\n",
        "\n",
        "parameters = {'alpha': np.logspace(-5,2,8)}\n",
        "\n",
        "# We will apply cross validation of 10 folds\n",
        "\n",
        "kfold = KFold(n_splits = 10)\n",
        "\n",
        "# We will use  grid search to find the optimal parameters \n",
        "\n",
        "elastic=ElasticNet(normalize=True)\n",
        "grid_search=GridSearchCV(estimator=elastic,param_grid={'alpha':np.logspace(-5,2,8),'l1_ratio':[.2,.4,.6,.8]},scoring='neg_mean_squared_error',n_jobs=1,refit=True,cv=10)\n",
        "\n",
        "# #To fit our regularised model with the best parameters\n",
        "\n",
        "results = grid_search.fit(X, y)\n",
        "\n",
        "# Displaying the best parameters and the the best score\n",
        "\n",
        "print(grid_search.best_params_)\n",
        "(abs(np.sqrt(grid_search.best_score_)))\n",
        "\n",
        "rootMeanSquaredError = sqrt(meanSquaredError)\n",
        "print(\"RMSE:\", rootMeanSquaredError) "
      ],
      "execution_count": 22,
      "outputs": [
        {
          "output_type": "stream",
          "text": [
            "{'alpha': 1e-05, 'l1_ratio': 0.8}\n",
            "RMSE: 367246.78690316353\n"
          ],
          "name": "stdout"
        }
      ]
    },
    {
      "cell_type": "markdown",
      "metadata": {
        "id": "mXK-haetesYh",
        "colab_type": "text"
      },
      "source": [
        "We observe that the best hyperparameters was an alpha set to 0.00001 and a l1_ratio of 0.8. \n",
        "With these settings our model got best score of RMSE of 367246. "
      ]
    },
    {
      "cell_type": "markdown",
      "metadata": {
        "id": "qOFM-tqXf2Cg",
        "colab_type": "text"
      },
      "source": [
        "ii)Elastic net model with best parameters"
      ]
    },
    {
      "cell_type": "code",
      "metadata": {
        "id": "ZHioexe8aprq",
        "colab_type": "code",
        "colab": {
          "base_uri": "https://localhost:8080/",
          "height": 68
        },
        "outputId": "fad39cdf-82af-40f7-b8ac-9c1fbe1ffe3f"
      },
      "source": [
        "#With the best hyperparameters tuning an alpha set to 0.00001 and a l1_ratio of 0.8. \n",
        "#Let's fit the parameters to assess the performance\n",
        "\n",
        "elastic=ElasticNet(normalize=True,alpha=0.00001,l1_ratio=0.8)\n",
        "elastic.fit(X,y)\n",
        "# second_model=(mean_squared_error(y_true=y,y_pred=elastic.predict(X)))\n",
        "# print(second_model)\n",
        "\n",
        "meanSquaredError=(mean_squared_error(y_true=y,y_pred=elastic.predict(X)))\n",
        "print(\"MSE:\", meanSquaredError)\n",
        "rootMeanSquaredError = sqrt(meanSquaredError)\n",
        "print(\"RMSE:\", rootMeanSquaredError) \n",
        "print(\"elastic score:\", elastic.score(X, y)) "
      ],
      "execution_count": 106,
      "outputs": [
        {
          "output_type": "stream",
          "text": [
            "MSE: 40618690340.85005\n",
            "RMSE: 201540.79076169682\n",
            "elastic score: 0.699006580011474\n"
          ],
          "name": "stdout"
        }
      ]
    },
    {
      "cell_type": "markdown",
      "metadata": {
        "id": "9dK2FMH2iCrp",
        "colab_type": "text"
      },
      "source": [
        "We observe that the score has reduced to 69.9% which eliminates the overfitting. Our model has drastically improved from RMSE of 367,246 to 201,507\n",
        "\n",
        "Elastic net can work with as many variables as are available"
      ]
    },
    {
      "cell_type": "code",
      "metadata": {
        "id": "_MtCrERmPAiO",
        "colab_type": "code",
        "colab": {
          "base_uri": "https://localhost:8080/",
          "height": 323
        },
        "outputId": "a4fc0f98-682f-4a80-d872-7e92373dcaf8"
      },
      "source": [
        "# Below are the elastic net coefficients\n",
        "\n",
        "coef_dict_baseline = {}\n",
        "for coef, feat in zip(elastic.coef_,X.columns):\n",
        "    coef_dict_baseline[feat] = coef\n",
        "coef_dict_baseline"
      ],
      "execution_count": 176,
      "outputs": [
        {
          "output_type": "execute_result",
          "data": {
            "text/plain": [
              "{'bathrooms': 0.03238112781116633,\n",
              " 'bedrooms': 28.89568459989334,\n",
              " 'condition': 24.059885212882282,\n",
              " 'floors': 128.63999791659236,\n",
              " 'grade': 0.031164028992477357,\n",
              " 'id': 13.828516267132306,\n",
              " 'lat': 5.956566421187448,\n",
              " 'long': 0.03605237877670703,\n",
              " 'sqft_above': 0.03090049246999377,\n",
              " 'sqft_basement': 0.07020774410325188,\n",
              " 'sqft_living': 8.981266556651e-05,\n",
              " 'sqft_living15': 0.00012228458508705656,\n",
              " 'sqft_lot': 20.293858106685803,\n",
              " 'view': 2.3857390330761405,\n",
              " 'waterfront': 22.309220796967786,\n",
              " 'yr_built': 0.012898789832831258,\n",
              " 'yr_renovated': -0.04017169606254585,\n",
              " 'zipcode': 93.70929129435147}"
            ]
          },
          "metadata": {
            "tags": []
          },
          "execution_count": 176
        }
      ]
    },
    {
      "cell_type": "markdown",
      "metadata": {
        "id": "GoxJYE65PL7Q",
        "colab_type": "text"
      },
      "source": [
        "We note that the coefficients have greatly been reduced by this model"
      ]
    },
    {
      "cell_type": "markdown",
      "metadata": {
        "id": "ZvkcjxasG5bK",
        "colab_type": "text"
      },
      "source": [
        "5) Quantile regression"
      ]
    },
    {
      "cell_type": "code",
      "metadata": {
        "id": "6THzI-NB_-M2",
        "colab_type": "code",
        "colab": {
          "base_uri": "https://localhost:8080/",
          "height": 459
        },
        "outputId": "440f9d84-5262-4757-b6d7-6b1371f00664"
      },
      "source": [
        "import statsmodels.formula.api as smf \n",
        "\n",
        "x= df[['bedrooms','condition','grade','bathrooms','sqft_living','sqft_lot','floors','sqft_above','view','sqft_lot15']]\n",
        "y=df['price']\n",
        "#quantile reg\n",
        "\n",
        "import statsmodels.formula.api as smf \n",
        "\n",
        "mod = smf.quantreg('y ~ x',df)\n",
        "res = mod.fit(q=.5)\n",
        "\n",
        "# Then print out the summary of our model\n",
        "#\n",
        "print(res.summary())"
      ],
      "execution_count": 112,
      "outputs": [
        {
          "output_type": "stream",
          "text": [
            "                         QuantReg Regression Results                          \n",
            "==============================================================================\n",
            "Dep. Variable:                      y   Pseudo R-squared:               0.3342\n",
            "Model:                       QuantReg   Bandwidth:                   2.674e+04\n",
            "Method:                 Least Squares   Sparsity:                    3.866e+05\n",
            "Date:                Fri, 31 Jul 2020   No. Observations:                21613\n",
            "Time:                        11:04:51   Df Residuals:                    21602\n",
            "                                        Df Model:                           10\n",
            "==============================================================================\n",
            "                 coef    std err          t      P>|t|      [0.025      0.975]\n",
            "------------------------------------------------------------------------------\n",
            "Intercept  -3.213e+05   1.46e+04    -22.016      0.000    -3.5e+05   -2.93e+05\n",
            "x[0]       -3.781e+04   1808.234    -20.907      0.000   -4.13e+04   -3.43e+04\n",
            "x[1]        2.145e+04   2121.879     10.110      0.000    1.73e+04    2.56e+04\n",
            "x[2]        7.468e+04   1900.277     39.302      0.000     7.1e+04    7.84e+04\n",
            "x[3]       -2.082e+04   2921.477     -7.126      0.000   -2.65e+04   -1.51e+04\n",
            "x[4]         193.3655      4.040     47.863      0.000     185.447     201.284\n",
            "x[5]           0.0683      0.046      1.492      0.136      -0.021       0.158\n",
            "x[6]        9650.8784   3307.645      2.918      0.004    3167.649    1.61e+04\n",
            "x[7]         -38.4383      3.959     -9.710      0.000     -46.198     -30.679\n",
            "x[8]        7.041e+04   1844.621     38.170      0.000    6.68e+04     7.4e+04\n",
            "x[9]          -0.4641      0.070     -6.648      0.000      -0.601      -0.327\n",
            "==============================================================================\n",
            "\n",
            "The condition number is large, 5.67e+05. This might indicate that there are\n",
            "strong multicollinearity or other numerical problems.\n"
          ],
          "name": "stdout"
        }
      ]
    },
    {
      "cell_type": "markdown",
      "metadata": {
        "id": "7alszJGC9c17",
        "colab_type": "text"
      },
      "source": [
        "We observe that our R2 score is 33% this is very poor performance.The intercept is 3.866e+05 and our slope or the coefficient for our x is -3.781e+04. \n",
        "These are the parameters for the 0.5th quantile of our y.\n",
        "\n",
        "The model performs best when the data is continous.\n",
        "It is quite beneficial when heteroscedasticity is present in the data.\n",
        "\n",
        "It is robust to outliers.\n",
        "\n",
        "It is more useful than linear regression when the data is skewed"
      ]
    },
    {
      "cell_type": "code",
      "metadata": {
        "id": "ZMa8Ckz3LuMq",
        "colab_type": "code",
        "colab": {}
      },
      "source": [
        "#To implement for other quantiles\n",
        "X= df.drop(['price'], axis=1)\n",
        "y= df['price']\n",
        "\n",
        "df['price'] = df['price'].apply(np.int64)"
      ],
      "execution_count": 167,
      "outputs": []
    },
    {
      "cell_type": "code",
      "metadata": {
        "id": "bt-SEJITL7mG",
        "colab_type": "code",
        "colab": {
          "base_uri": "https://localhost:8080/",
          "height": 374
        },
        "outputId": "1cd3ea3c-e3fb-48a5-b4df-525c21b78799"
      },
      "source": [
        "df.dtypes"
      ],
      "execution_count": 168,
      "outputs": [
        {
          "output_type": "execute_result",
          "data": {
            "text/plain": [
              "id               int64\n",
              "price            int64\n",
              "bedrooms         int64\n",
              "bathrooms        int64\n",
              "sqft_living      int64\n",
              "sqft_lot         int64\n",
              "floors           int64\n",
              "waterfront       int64\n",
              "view             int64\n",
              "condition        int64\n",
              "grade            int64\n",
              "sqft_above       int64\n",
              "sqft_basement    int64\n",
              "yr_built         int64\n",
              "yr_renovated     int64\n",
              "zipcode          int64\n",
              "lat              int64\n",
              "long             int64\n",
              "sqft_living15    int64\n",
              "sqft_lot15       int64\n",
              "dtype: object"
            ]
          },
          "metadata": {
            "tags": []
          },
          "execution_count": 168
        }
      ]
    },
    {
      "cell_type": "code",
      "metadata": {
        "id": "Wwt2nNOc_-Lb",
        "colab_type": "code",
        "colab": {
          "base_uri": "https://localhost:8080/",
          "height": 732
        },
        "outputId": "19969d1a-f883-4b79-c029-62b52a4d8ac3"
      },
      "source": [
        "## Models for other quantiles\n",
        "\n",
        "quantiles = np.arange(0.1,1,0.1) \n",
        "models = []\n",
        "params = []\n",
        "\n",
        "# We build models for each quantile in our list quantiles inside a for loop\n",
        "# As we build these models we also store the model parameters in a list called params. \n",
        "for qt in quantiles: \n",
        "\tres = mod.fit(q = qt )  \n",
        "\tmodels.append(res)\n",
        "\tparams.append([qt, res.params['Intercept'], res.params['x']] + res.conf_int().loc['x'].tolist())\n",
        "\n",
        "# Lastly we make a dataframe of the same name, so we we can view our different models.\n",
        "params = pd.DataFrame(data = params, columns = ['qt', 'intercept', 'x_coef', 'cf_lower_bound', 'cf_upper_bound'])\n",
        "print(params)"
      ],
      "execution_count": 170,
      "outputs": [
        {
          "output_type": "error",
          "ename": "KeyError",
          "evalue": "ignored",
          "traceback": [
            "\u001b[0;31m---------------------------------------------------------------------------\u001b[0m",
            "\u001b[0;31mTypeError\u001b[0m                                 Traceback (most recent call last)",
            "\u001b[0;32m/usr/local/lib/python3.6/dist-packages/pandas/core/indexes/base.py\u001b[0m in \u001b[0;36mget_value\u001b[0;34m(self, series, key)\u001b[0m\n\u001b[1;32m   4410\u001b[0m             \u001b[0;32mtry\u001b[0m\u001b[0;34m:\u001b[0m\u001b[0;34m\u001b[0m\u001b[0;34m\u001b[0m\u001b[0m\n\u001b[0;32m-> 4411\u001b[0;31m                 \u001b[0;32mreturn\u001b[0m \u001b[0mlibindex\u001b[0m\u001b[0;34m.\u001b[0m\u001b[0mget_value_at\u001b[0m\u001b[0;34m(\u001b[0m\u001b[0ms\u001b[0m\u001b[0;34m,\u001b[0m \u001b[0mkey\u001b[0m\u001b[0;34m)\u001b[0m\u001b[0;34m\u001b[0m\u001b[0;34m\u001b[0m\u001b[0m\n\u001b[0m\u001b[1;32m   4412\u001b[0m             \u001b[0;32mexcept\u001b[0m \u001b[0mIndexError\u001b[0m\u001b[0;34m:\u001b[0m\u001b[0;34m\u001b[0m\u001b[0;34m\u001b[0m\u001b[0m\n",
            "\u001b[0;32mpandas/_libs/index.pyx\u001b[0m in \u001b[0;36mpandas._libs.index.get_value_at\u001b[0;34m()\u001b[0m\n",
            "\u001b[0;32mpandas/_libs/index.pyx\u001b[0m in \u001b[0;36mpandas._libs.index.get_value_at\u001b[0;34m()\u001b[0m\n",
            "\u001b[0;32mpandas/_libs/util.pxd\u001b[0m in \u001b[0;36mpandas._libs.util.get_value_at\u001b[0;34m()\u001b[0m\n",
            "\u001b[0;32mpandas/_libs/util.pxd\u001b[0m in \u001b[0;36mpandas._libs.util.validate_indexer\u001b[0;34m()\u001b[0m\n",
            "\u001b[0;31mTypeError\u001b[0m: 'str' object cannot be interpreted as an integer",
            "\nDuring handling of the above exception, another exception occurred:\n",
            "\u001b[0;31mKeyError\u001b[0m                                  Traceback (most recent call last)",
            "\u001b[0;32m<ipython-input-170-43f06e9fef43>\u001b[0m in \u001b[0;36m<module>\u001b[0;34m()\u001b[0m\n\u001b[1;32m     10\u001b[0m         \u001b[0mres\u001b[0m \u001b[0;34m=\u001b[0m \u001b[0mmod\u001b[0m\u001b[0;34m.\u001b[0m\u001b[0mfit\u001b[0m\u001b[0;34m(\u001b[0m\u001b[0mq\u001b[0m \u001b[0;34m=\u001b[0m \u001b[0mqt\u001b[0m \u001b[0;34m)\u001b[0m\u001b[0;34m\u001b[0m\u001b[0;34m\u001b[0m\u001b[0m\n\u001b[1;32m     11\u001b[0m         \u001b[0mmodels\u001b[0m\u001b[0;34m.\u001b[0m\u001b[0mappend\u001b[0m\u001b[0;34m(\u001b[0m\u001b[0mres\u001b[0m\u001b[0;34m)\u001b[0m\u001b[0;34m\u001b[0m\u001b[0;34m\u001b[0m\u001b[0m\n\u001b[0;32m---> 12\u001b[0;31m         \u001b[0mparams\u001b[0m\u001b[0;34m.\u001b[0m\u001b[0mappend\u001b[0m\u001b[0;34m(\u001b[0m\u001b[0;34m[\u001b[0m\u001b[0mqt\u001b[0m\u001b[0;34m,\u001b[0m \u001b[0mres\u001b[0m\u001b[0;34m.\u001b[0m\u001b[0mparams\u001b[0m\u001b[0;34m[\u001b[0m\u001b[0;34m'Intercept'\u001b[0m\u001b[0;34m]\u001b[0m\u001b[0;34m,\u001b[0m \u001b[0mres\u001b[0m\u001b[0;34m.\u001b[0m\u001b[0mparams\u001b[0m\u001b[0;34m[\u001b[0m\u001b[0;34m'x'\u001b[0m\u001b[0;34m]\u001b[0m\u001b[0;34m]\u001b[0m \u001b[0;34m+\u001b[0m \u001b[0mres\u001b[0m\u001b[0;34m.\u001b[0m\u001b[0mconf_int\u001b[0m\u001b[0;34m(\u001b[0m\u001b[0;34m)\u001b[0m\u001b[0;34m.\u001b[0m\u001b[0mloc\u001b[0m\u001b[0;34m[\u001b[0m\u001b[0;34m'x'\u001b[0m\u001b[0;34m]\u001b[0m\u001b[0;34m.\u001b[0m\u001b[0mtolist\u001b[0m\u001b[0;34m(\u001b[0m\u001b[0;34m)\u001b[0m\u001b[0;34m)\u001b[0m\u001b[0;34m\u001b[0m\u001b[0;34m\u001b[0m\u001b[0m\n\u001b[0m\u001b[1;32m     13\u001b[0m \u001b[0;34m\u001b[0m\u001b[0m\n\u001b[1;32m     14\u001b[0m \u001b[0;31m# Lastly we make a dataframe of the same name, so we we can view our different models.\u001b[0m\u001b[0;34m\u001b[0m\u001b[0;34m\u001b[0m\u001b[0;34m\u001b[0m\u001b[0m\n",
            "\u001b[0;32m/usr/local/lib/python3.6/dist-packages/pandas/core/series.py\u001b[0m in \u001b[0;36m__getitem__\u001b[0;34m(self, key)\u001b[0m\n\u001b[1;32m    869\u001b[0m         \u001b[0mkey\u001b[0m \u001b[0;34m=\u001b[0m \u001b[0mcom\u001b[0m\u001b[0;34m.\u001b[0m\u001b[0mapply_if_callable\u001b[0m\u001b[0;34m(\u001b[0m\u001b[0mkey\u001b[0m\u001b[0;34m,\u001b[0m \u001b[0mself\u001b[0m\u001b[0;34m)\u001b[0m\u001b[0;34m\u001b[0m\u001b[0;34m\u001b[0m\u001b[0m\n\u001b[1;32m    870\u001b[0m         \u001b[0;32mtry\u001b[0m\u001b[0;34m:\u001b[0m\u001b[0;34m\u001b[0m\u001b[0;34m\u001b[0m\u001b[0m\n\u001b[0;32m--> 871\u001b[0;31m             \u001b[0mresult\u001b[0m \u001b[0;34m=\u001b[0m \u001b[0mself\u001b[0m\u001b[0;34m.\u001b[0m\u001b[0mindex\u001b[0m\u001b[0;34m.\u001b[0m\u001b[0mget_value\u001b[0m\u001b[0;34m(\u001b[0m\u001b[0mself\u001b[0m\u001b[0;34m,\u001b[0m \u001b[0mkey\u001b[0m\u001b[0;34m)\u001b[0m\u001b[0;34m\u001b[0m\u001b[0;34m\u001b[0m\u001b[0m\n\u001b[0m\u001b[1;32m    872\u001b[0m \u001b[0;34m\u001b[0m\u001b[0m\n\u001b[1;32m    873\u001b[0m             \u001b[0;32mif\u001b[0m \u001b[0;32mnot\u001b[0m \u001b[0mis_scalar\u001b[0m\u001b[0;34m(\u001b[0m\u001b[0mresult\u001b[0m\u001b[0;34m)\u001b[0m\u001b[0;34m:\u001b[0m\u001b[0;34m\u001b[0m\u001b[0;34m\u001b[0m\u001b[0m\n",
            "\u001b[0;32m/usr/local/lib/python3.6/dist-packages/pandas/core/indexes/base.py\u001b[0m in \u001b[0;36mget_value\u001b[0;34m(self, series, key)\u001b[0m\n\u001b[1;32m   4417\u001b[0m                     \u001b[0;32mraise\u001b[0m \u001b[0mInvalidIndexError\u001b[0m\u001b[0;34m(\u001b[0m\u001b[0mkey\u001b[0m\u001b[0;34m)\u001b[0m\u001b[0;34m\u001b[0m\u001b[0;34m\u001b[0m\u001b[0m\n\u001b[1;32m   4418\u001b[0m                 \u001b[0;32melse\u001b[0m\u001b[0;34m:\u001b[0m\u001b[0;34m\u001b[0m\u001b[0;34m\u001b[0m\u001b[0m\n\u001b[0;32m-> 4419\u001b[0;31m                     \u001b[0;32mraise\u001b[0m \u001b[0me1\u001b[0m\u001b[0;34m\u001b[0m\u001b[0;34m\u001b[0m\u001b[0m\n\u001b[0m\u001b[1;32m   4420\u001b[0m             \u001b[0;32mexcept\u001b[0m \u001b[0mException\u001b[0m\u001b[0;34m:\u001b[0m\u001b[0;34m\u001b[0m\u001b[0;34m\u001b[0m\u001b[0m\n\u001b[1;32m   4421\u001b[0m                 \u001b[0;32mraise\u001b[0m \u001b[0me1\u001b[0m\u001b[0;34m\u001b[0m\u001b[0;34m\u001b[0m\u001b[0m\n",
            "\u001b[0;32m/usr/local/lib/python3.6/dist-packages/pandas/core/indexes/base.py\u001b[0m in \u001b[0;36mget_value\u001b[0;34m(self, series, key)\u001b[0m\n\u001b[1;32m   4403\u001b[0m         \u001b[0mk\u001b[0m \u001b[0;34m=\u001b[0m \u001b[0mself\u001b[0m\u001b[0;34m.\u001b[0m\u001b[0m_convert_scalar_indexer\u001b[0m\u001b[0;34m(\u001b[0m\u001b[0mk\u001b[0m\u001b[0;34m,\u001b[0m \u001b[0mkind\u001b[0m\u001b[0;34m=\u001b[0m\u001b[0;34m\"getitem\"\u001b[0m\u001b[0;34m)\u001b[0m\u001b[0;34m\u001b[0m\u001b[0;34m\u001b[0m\u001b[0m\n\u001b[1;32m   4404\u001b[0m         \u001b[0;32mtry\u001b[0m\u001b[0;34m:\u001b[0m\u001b[0;34m\u001b[0m\u001b[0;34m\u001b[0m\u001b[0m\n\u001b[0;32m-> 4405\u001b[0;31m             \u001b[0;32mreturn\u001b[0m \u001b[0mself\u001b[0m\u001b[0;34m.\u001b[0m\u001b[0m_engine\u001b[0m\u001b[0;34m.\u001b[0m\u001b[0mget_value\u001b[0m\u001b[0;34m(\u001b[0m\u001b[0ms\u001b[0m\u001b[0;34m,\u001b[0m \u001b[0mk\u001b[0m\u001b[0;34m,\u001b[0m \u001b[0mtz\u001b[0m\u001b[0;34m=\u001b[0m\u001b[0mgetattr\u001b[0m\u001b[0;34m(\u001b[0m\u001b[0mseries\u001b[0m\u001b[0;34m.\u001b[0m\u001b[0mdtype\u001b[0m\u001b[0;34m,\u001b[0m \u001b[0;34m\"tz\"\u001b[0m\u001b[0;34m,\u001b[0m \u001b[0;32mNone\u001b[0m\u001b[0;34m)\u001b[0m\u001b[0;34m)\u001b[0m\u001b[0;34m\u001b[0m\u001b[0;34m\u001b[0m\u001b[0m\n\u001b[0m\u001b[1;32m   4406\u001b[0m         \u001b[0;32mexcept\u001b[0m \u001b[0mKeyError\u001b[0m \u001b[0;32mas\u001b[0m \u001b[0me1\u001b[0m\u001b[0;34m:\u001b[0m\u001b[0;34m\u001b[0m\u001b[0;34m\u001b[0m\u001b[0m\n\u001b[1;32m   4407\u001b[0m             \u001b[0;32mif\u001b[0m \u001b[0mlen\u001b[0m\u001b[0;34m(\u001b[0m\u001b[0mself\u001b[0m\u001b[0;34m)\u001b[0m \u001b[0;34m>\u001b[0m \u001b[0;36m0\u001b[0m \u001b[0;32mand\u001b[0m \u001b[0;34m(\u001b[0m\u001b[0mself\u001b[0m\u001b[0;34m.\u001b[0m\u001b[0mholds_integer\u001b[0m\u001b[0;34m(\u001b[0m\u001b[0;34m)\u001b[0m \u001b[0;32mor\u001b[0m \u001b[0mself\u001b[0m\u001b[0;34m.\u001b[0m\u001b[0mis_boolean\u001b[0m\u001b[0;34m(\u001b[0m\u001b[0;34m)\u001b[0m\u001b[0;34m)\u001b[0m\u001b[0;34m:\u001b[0m\u001b[0;34m\u001b[0m\u001b[0;34m\u001b[0m\u001b[0m\n",
            "\u001b[0;32mpandas/_libs/index.pyx\u001b[0m in \u001b[0;36mpandas._libs.index.IndexEngine.get_value\u001b[0;34m()\u001b[0m\n",
            "\u001b[0;32mpandas/_libs/index.pyx\u001b[0m in \u001b[0;36mpandas._libs.index.IndexEngine.get_value\u001b[0;34m()\u001b[0m\n",
            "\u001b[0;32mpandas/_libs/index.pyx\u001b[0m in \u001b[0;36mpandas._libs.index.IndexEngine.get_loc\u001b[0;34m()\u001b[0m\n",
            "\u001b[0;32mpandas/_libs/hashtable_class_helper.pxi\u001b[0m in \u001b[0;36mpandas._libs.hashtable.PyObjectHashTable.get_item\u001b[0;34m()\u001b[0m\n",
            "\u001b[0;32mpandas/_libs/hashtable_class_helper.pxi\u001b[0m in \u001b[0;36mpandas._libs.hashtable.PyObjectHashTable.get_item\u001b[0;34m()\u001b[0m\n",
            "\u001b[0;31mKeyError\u001b[0m: 'x'"
          ]
        }
      ]
    },
    {
      "cell_type": "code",
      "metadata": {
        "id": "va10L4ajM6w7",
        "colab_type": "code",
        "colab": {
          "base_uri": "https://localhost:8080/",
          "height": 458
        },
        "outputId": "b1643151-7d37-456e-eb3d-b184b8db940c"
      },
      "source": [
        "#Importing library for visualization\n",
        "\n",
        "coefsLasso = [] \n",
        "\n",
        "# Building Lasso for 200 values of alpha and write the coefficients into array\n",
        "# \n",
        "alphasLasso = np.arange (0, 20, 0.1) \n",
        "for i in range(200):\n",
        "    lasso = linear_model.Lasso(alpha=alphasLasso[i])\n",
        "    lasso.fit(X_train, y_train) \n",
        "    coefsLasso.append(lasso.coef_) \n",
        "\n",
        "# Visualizing Lasso coefficient plots\n",
        "# \n",
        "plt.figure(figsize = (16,7))\n",
        "\n",
        "plt.subplot(121)\n",
        "plt.plot(alphasLasso, coefsLasso)\n",
        "plt.title('Lasso coefficients')\n",
        "plt.xlabel('alpha')\n",
        "plt.ylabel('coefs')\n",
        "\n",
        "plt.show()"
      ],
      "execution_count": 173,
      "outputs": [
        {
          "output_type": "display_data",
          "data": {
            "image/png": "[encoded data removed]",
            "text/plain": [
              "<Figure size 1152x504 with 1 Axes>"
            ]
          },
          "metadata": {
            "tags": [],
            "needs_background": "light"
          }
        }
      ]
    },
    {
      "cell_type": "markdown",
      "metadata": {
        "id": "OZk9RrpojxxL",
        "colab_type": "text"
      },
      "source": [
        "#Conclusion\n",
        "\n",
        "It is evident that our mutiple regression model performed best even without normalizing or standardizing the data. while ridge,lasso and elastic regression perfomed better after tuning the parameters through regularization. It is clear that multicollienarity of the dependent variables did not affect the performace of the models. \n",
        "For quantile regression, this must have affected performance of the model, the existence of too many repeated values could also have contributed to poor performance."
      ]
    },
    {
      "cell_type": "markdown",
      "metadata": {
        "id": "9lrTYAXHknRS",
        "colab_type": "text"
      },
      "source": [
        "#Challenging the solution\n",
        "The performance could be improved by testing other models e.g KNN,Decision tree,SVM among others\n",
        "The dataset should have hadd detailed description about the different variables e.g the currency of the prices, the description of differnt grades,condition. This eases the analysis and eliminates chances of making wrong assumption.\n"
      ]
    }
  ]
}